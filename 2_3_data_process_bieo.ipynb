{
 "cells": [
  {
   "cell_type": "markdown",
   "metadata": {},
   "source": [
    "### <font color=red>如果下班了以后还想让服务器自己继续跑程序的话，可以在xshell中输入nohup python 2_2_data_process.py &就可以让服务器自动hang up自己跑"
   ]
  },
  {
   "cell_type": "markdown",
   "metadata": {},
   "source": [
    "<font color=blue>nohup python 2_2_data_process.py &"
   ]
  },
  {
   "cell_type": "code",
   "execution_count": 1,
   "metadata": {},
   "outputs": [],
   "source": [
    "import numpy as np\n",
    "import pandas as pd\n",
    "import warnings,os,time,gc,jieba\n",
    "warnings.filterwarnings('ignore')"
   ]
  },
  {
   "cell_type": "code",
   "execution_count": 2,
   "metadata": {},
   "outputs": [],
   "source": [
    "def random_shuffle(df):\n",
    "    df=df.reset_index(drop=True)\n",
    "    leng=len(df)\n",
    "    indices=np.random.permutation(leng)\n",
    "    df=df.iloc[indices,:]\n",
    "    print(df.head())\n",
    "    return df"
   ]
  },
  {
   "cell_type": "code",
   "execution_count": 3,
   "metadata": {},
   "outputs": [],
   "source": [
    "#方法一：\n",
    "#（1）对于非品牌字，随机选择与本品牌不重字的词组，组合成一个新的desc\n",
    "#优点：增加了非固定词语组合的特征\n",
    "#需要注意的是:categ的统一，即要选择categ一致的品牌替换才可以\n",
    "\n",
    "#方法二：\n",
    "#（1）找到那些不带categ的数据，然后将数据分成3类型，左中右\n",
    "#（2）然后分别随机选择以后，将对应的品牌进行代替\n",
    "#（3）然后对于这些新增的数据，全都放到train_0中，先出model,然后预测这些新增的样本的测试\n",
    "#优点：更加符合实际业务中的platform_goods_name"
   ]
  },
  {
   "cell_type": "code",
   "execution_count": 4,
   "metadata": {},
   "outputs": [
    {
     "name": "stdout",
     "output_type": "stream",
     "text": [
      "(4220070, 23)\n"
     ]
    },
    {
     "data": {
      "text/html": [
       "<div>\n",
       "<style scoped>\n",
       "    .dataframe tbody tr th:only-of-type {\n",
       "        vertical-align: middle;\n",
       "    }\n",
       "\n",
       "    .dataframe tbody tr th {\n",
       "        vertical-align: top;\n",
       "    }\n",
       "\n",
       "    .dataframe thead th {\n",
       "        text-align: right;\n",
       "    }\n",
       "</style>\n",
       "<table border=\"1\" class=\"dataframe\">\n",
       "  <thead>\n",
       "    <tr style=\"text-align: right;\">\n",
       "      <th></th>\n",
       "      <th>id</th>\n",
       "      <th>desc</th>\n",
       "      <th>final_ner</th>\n",
       "    </tr>\n",
       "  </thead>\n",
       "  <tbody>\n",
       "    <tr>\n",
       "      <th>2149861</th>\n",
       "      <td>44737846730</td>\n",
       "      <td>下单减10元送5件套刷眉笔18色眼影盘多色哑光珠光学生抖音网红沙漠黄昏影楼大地色韩德国小众1...</td>\n",
       "      <td>O,O,O,O,O,O,O,O,O,O,O,O,O,O,O,O,O,O,O,O,O,O,O,...</td>\n",
       "    </tr>\n",
       "    <tr>\n",
       "      <th>3496462</th>\n",
       "      <td>69168184350</td>\n",
       "      <td>卡姿兰口红唇釉豆沙色唇彩唇蜜持久保湿不掉色不易沾杯润唇膏防水正V610枣泥粽</td>\n",
       "      <td>BRD-B,BRD-M,BRD-E,O,O,O,O,O,O,O,O,O,O,O,O,O,O,...</td>\n",
       "    </tr>\n",
       "    <tr>\n",
       "      <th>2138607</th>\n",
       "      <td>44533919986</td>\n",
       "      <td>DIOR迪奥滴管粉底液2015新款NUDEAIR俄罗斯专柜代购现货</td>\n",
       "      <td>BRD-B,BRD-M,BRD-M,BRD-E,BRD-B,BRD-E,O,O,O,O,O,...</td>\n",
       "    </tr>\n",
       "  </tbody>\n",
       "</table>\n",
       "</div>"
      ],
      "text/plain": [
       "                  id                                               desc  \\\n",
       "2149861  44737846730  下单减10元送5件套刷眉笔18色眼影盘多色哑光珠光学生抖音网红沙漠黄昏影楼大地色韩德国小众1...   \n",
       "3496462  69168184350             卡姿兰口红唇釉豆沙色唇彩唇蜜持久保湿不掉色不易沾杯润唇膏防水正V610枣泥粽   \n",
       "2138607  44533919986                  DIOR迪奥滴管粉底液2015新款NUDEAIR俄罗斯专柜代购现货   \n",
       "\n",
       "                                                 final_ner  \n",
       "2149861  O,O,O,O,O,O,O,O,O,O,O,O,O,O,O,O,O,O,O,O,O,O,O,...  \n",
       "3496462  BRD-B,BRD-M,BRD-E,O,O,O,O,O,O,O,O,O,O,O,O,O,O,...  \n",
       "2138607  BRD-B,BRD-M,BRD-M,BRD-E,BRD-B,BRD-E,O,O,O,O,O,...  "
      ]
     },
     "execution_count": 4,
     "metadata": {},
     "output_type": "execute_result"
    }
   ],
   "source": [
    "train=pd.read_csv('train_ner_bieo.csv')\n",
    "print(train.shape)\n",
    "train[['id','desc','final_ner']].sample(3)"
   ]
  },
  {
   "cell_type": "markdown",
   "metadata": {},
   "source": [
    "### <font color=red>方法一"
   ]
  },
  {
   "cell_type": "markdown",
   "metadata": {},
   "source": [
    "<font color=red>（1)提取出brands和nokey words"
   ]
  },
  {
   "cell_type": "code",
   "execution_count": 5,
   "metadata": {},
   "outputs": [],
   "source": [
    "#查看位置分布\n",
    "def get_position(v1,v2):\n",
    "    v2=v2.split(',')\n",
    "    if len(v1)==len(v2):\n",
    "        if len(v1)<2:\n",
    "            if v2[0]=='BRD-B':\n",
    "                return 'head'\n",
    "            else:\n",
    "                return 'zero'\n",
    "        else:\n",
    "            if v2[0]=='BRD-B':\n",
    "                return 'head'\n",
    "            elif v2[-1]=='BRD-I':\n",
    "                return 'tail'\n",
    "            else:\n",
    "                flag=''\n",
    "                for i in range(1,len(v2)-1):\n",
    "                    if v2[i]=='BRD-B':\n",
    "                        flag='middle'\n",
    "                if flag=='middle':\n",
    "                    return 'middle'\n",
    "                else:\n",
    "                    return 'zero'"
   ]
  },
  {
   "cell_type": "code",
   "execution_count": 6,
   "metadata": {},
   "outputs": [],
   "source": [
    "#查看位置分布\n",
    "def get_position_bieo(v1,v2):\n",
    "    v2=v2.split(',')\n",
    "    if len(v1)==len(v2):\n",
    "        if len(v1)<2:\n",
    "            if v2[0]=='BRD-B':\n",
    "                return 'head'\n",
    "            else:\n",
    "                return 'zero'\n",
    "        else:\n",
    "            if v2[0]=='BRD-B':\n",
    "                return 'head'\n",
    "            elif v2[-1]=='BRD-E':\n",
    "                return 'tail'\n",
    "            else:\n",
    "                flag=''\n",
    "                for i in range(1,len(v2)-1):\n",
    "                    if v2[i]=='BRD-B':\n",
    "                        flag='middle'\n",
    "                if flag=='middle':\n",
    "                    return 'middle'\n",
    "                else:\n",
    "                    return 'zero'"
   ]
  },
  {
   "cell_type": "code",
   "execution_count": 7,
   "metadata": {},
   "outputs": [
    {
     "name": "stdout",
     "output_type": "stream",
     "text": [
      "(4220070, 24)\n",
      "id     0\n",
      "pos    0\n",
      "dtype: int64\n"
     ]
    }
   ],
   "source": [
    "train['pos']=train[['desc','final_ner']].apply(lambda row:get_position_bieo(row[0],row[1]),raw=True,axis=1)\n",
    "print(train.shape)\n",
    "print(pd.isnull(train[['id','pos']]).sum())"
   ]
  },
  {
   "cell_type": "code",
   "execution_count": 8,
   "metadata": {},
   "outputs": [
    {
     "name": "stdout",
     "output_type": "stream",
     "text": [
      "      pos      cnt     ratio\n",
      "0    head  1797389  0.425914\n",
      "1  middle  1224828  0.290239\n",
      "3    zero  1189561  0.281882\n",
      "2    tail     8292  0.001965\n"
     ]
    }
   ],
   "source": [
    "tmp=train.groupby('pos')['id'].count().reset_index(name='cnt')\n",
    "tmp['ratio']=tmp['cnt']/np.sum(tmp['cnt'])\n",
    "tmp.sort_values(by=['ratio'],ascending=False,inplace=True)\n",
    "print(tmp.head())"
   ]
  },
  {
   "cell_type": "code",
   "execution_count": null,
   "metadata": {},
   "outputs": [],
   "source": [
    "42.6, 29, 28"
   ]
  },
  {
   "cell_type": "code",
   "execution_count": null,
   "metadata": {},
   "outputs": [],
   "source": [
    "# check=train[train['pos']=='middle'][['desc','final_ner']]\n",
    "# check=check.sample(50).reset_index(drop=True)\n",
    "# for i in range(50):\n",
    "#     print(check['final_ner'][i])\n",
    "#     print('-'*40)"
   ]
  },
  {
   "cell_type": "code",
   "execution_count": 71,
   "metadata": {},
   "outputs": [],
   "source": [
    "def del_brand_jieba(v1,v2):\n",
    "    lst_key=[]\n",
    "    lst_nokey=[]\n",
    "    \n",
    "    lst=[]\n",
    "    s=str(v1)\n",
    "    ner=v2.split(',')\n",
    "    if len(s)==len(ner):\n",
    "        lst=[]\n",
    "        for i in range(len(s)):\n",
    "            word1=s[i]\n",
    "            ner1=ner[i]\n",
    "            if ner1=='O':\n",
    "                lst_nokey.append(word1)\n",
    "            elif ner1=='BRD-B':\n",
    "                lst.append(word1)\n",
    "            else:\n",
    "                lst.append(word1)\n",
    "        return \n",
    "    else:\n",
    "        return 'wrong'"
   ]
  },
  {
   "cell_type": "code",
   "execution_count": 72,
   "metadata": {},
   "outputs": [],
   "source": [
    "# #计算一个lst中出现的某一个value的次数\n",
    "# from collections import Counter\n",
    "# result = Counter(v2)\n",
    "# print(result['BRD-B'])"
   ]
  },
  {
   "cell_type": "code",
   "execution_count": 10,
   "metadata": {},
   "outputs": [],
   "source": [
    "v1='香港直邮雅诗兰黛YS花漾倾慕口红35ML'\n",
    "v2='O,O,O,O,BRD-B,BRD-I,BRD-I,BRD-I,BRD-B,BRD-I,O,O,O,O,O,O,O,O,O,O'\n",
    "\n",
    "def split_key_nokey(v1,v2):\n",
    "    v2=v2.split(',')\n",
    "    \n",
    "    lst_nokey=[]\n",
    "    lst_key=[]\n",
    "\n",
    "    if len(v1)==len(v2):\n",
    "        for i in range(len(v1)):\n",
    "            w1=v1[i]\n",
    "            n1=v2[i]\n",
    "            if n1=='O':\n",
    "                lst_nokey.append(w1)\n",
    "            elif n1=='BRD-B':\n",
    "                lst_key.append('#')\n",
    "                lst_key.append(w1)\n",
    "            else:\n",
    "                lst_key.append(w1)\n",
    "            \n",
    "    a=''.join(lst_nokey)\n",
    "    b=''.join(lst_key)\n",
    "    lst=list(set(b.split('#')))\n",
    "    if '' in lst:\n",
    "        lst.remove('')\n",
    "    return ','.join(lst),a\n",
    "\n",
    "# keys,nokeys=split_key_nokey(v1,v2)\n",
    "# print(keys)\n",
    "# print(nokeys)"
   ]
  },
  {
   "cell_type": "code",
   "execution_count": 11,
   "metadata": {},
   "outputs": [],
   "source": [
    "train['desc_key']=train[['desc','final_ner']].apply(lambda row:split_key_nokey(row[0],row[1])[0],raw=True,axis=1)"
   ]
  },
  {
   "cell_type": "code",
   "execution_count": 12,
   "metadata": {},
   "outputs": [
    {
     "name": "stdout",
     "output_type": "stream",
     "text": [
      "id          0\n",
      "desc_key    0\n",
      "dtype: int64\n"
     ]
    }
   ],
   "source": [
    "print(pd.isnull(train[['id','desc_key']]).sum())"
   ]
  },
  {
   "cell_type": "code",
   "execution_count": 13,
   "metadata": {},
   "outputs": [
    {
     "name": "stdout",
     "output_type": "stream",
     "text": [
      "1189550\n"
     ]
    }
   ],
   "source": [
    "print(len(train[train['desc_key']=='']))"
   ]
  },
  {
   "cell_type": "code",
   "execution_count": 14,
   "metadata": {},
   "outputs": [],
   "source": [
    "train.loc[train['desc_key']!='','key_leng']=train[train['desc_key']!='']['desc_key'].apply(lambda x:len(x.split(',')))\n",
    "train.loc[train['desc_key']=='','key_leng']=0"
   ]
  },
  {
   "cell_type": "code",
   "execution_count": 15,
   "metadata": {},
   "outputs": [
    {
     "name": "stdout",
     "output_type": "stream",
     "text": [
      "1.0    1933553\n",
      "0.0    1189550\n",
      "2.0    1075388\n",
      "3.0      20722\n",
      "4.0        855\n",
      "5.0          2\n",
      "Name: key_leng, dtype: int64\n"
     ]
    }
   ],
   "source": [
    "print(train['key_leng'].value_counts())"
   ]
  },
  {
   "cell_type": "code",
   "execution_count": 16,
   "metadata": {},
   "outputs": [],
   "source": [
    "# check=train[train['key_leng']==5].reset_index(drop=True)\n",
    "# print(check.head())"
   ]
  },
  {
   "cell_type": "code",
   "execution_count": 17,
   "metadata": {},
   "outputs": [
    {
     "name": "stdout",
     "output_type": "stream",
     "text": [
      "28640\n",
      "run time is: 2.749031440416972\n"
     ]
    },
    {
     "data": {
      "text/plain": [
       "26"
      ]
     },
     "execution_count": 17,
     "metadata": {},
     "output_type": "execute_result"
    }
   ],
   "source": [
    "#品牌词频统计\n",
    "s1=time.time()\n",
    "brand_time_dict={}\n",
    "train_del_null=train[train['desc_key']!=''][['id','desc_key']].drop_duplicates().reset_index(drop=True)\n",
    "for i in range(len(train_del_null)):\n",
    "    keys=train_del_null['desc_key'][i]\n",
    "    keys=keys.split(',')\n",
    "    for k in keys:\n",
    "        if k not in brand_time_dict:\n",
    "            brand_time_dict[k]=0\n",
    "        brand_time_dict[k]+=1\n",
    "print(len(brand_time_dict))\n",
    "print('run time is:',(time.time()-s1)/60)\n",
    "gc.collect()"
   ]
  },
  {
   "cell_type": "code",
   "execution_count": 18,
   "metadata": {},
   "outputs": [
    {
     "name": "stdout",
     "output_type": "stream",
     "text": [
      "(28640, 2)\n",
      "(28640, 2)\n",
      "        brand  frequency\n",
      "0         934          5\n",
      "1  PHILOSOPHY        138\n",
      "2        1611          4\n",
      "3       ROYAL        204\n",
      "4       THREE       3122\n"
     ]
    },
    {
     "data": {
      "text/plain": [
       "44"
      ]
     },
     "execution_count": 18,
     "metadata": {},
     "output_type": "execute_result"
    }
   ],
   "source": [
    "brand_time_df=pd.DataFrame.from_dict(brand_time_dict,orient='index')\n",
    "brand_time_df=brand_time_df.reset_index().rename(columns={'index':'brand',0:'frequency'})\n",
    "print(brand_time_df.shape)\n",
    "brand_time_df=brand_time_df.drop_duplicates().reset_index(drop=True)\n",
    "print(brand_time_df.shape)\n",
    "print(brand_time_df.head())\n",
    "\n",
    "brand_time_df.to_csv('brand_frequency_bieo.csv',index=False,encoding='utf-8')\n",
    "gc.collect()"
   ]
  },
  {
   "cell_type": "code",
   "execution_count": 19,
   "metadata": {},
   "outputs": [
    {
     "name": "stdout",
     "output_type": "stream",
     "text": [
      "0.00        1.0\n",
      "0.25        1.0\n",
      "0.50        3.0\n",
      "0.75       13.0\n",
      "1.00    96391.0\n",
      "Name: frequency, dtype: float64\n"
     ]
    }
   ],
   "source": [
    "print(brand_time_df['frequency'].quantile([0,0.25,0.5,0.75,1]))"
   ]
  },
  {
   "cell_type": "code",
   "execution_count": 20,
   "metadata": {},
   "outputs": [
    {
     "name": "stdout",
     "output_type": "stream",
     "text": [
      "(13317, 2)\n",
      "1\n"
     ]
    }
   ],
   "source": [
    "check=brand_time_df[brand_time_df['frequency']<3]\n",
    "print(check.shape)\n",
    "print(check['frequency'].min())"
   ]
  },
  {
   "cell_type": "markdown",
   "metadata": {},
   "source": [
    "### <font color=red>先用那些样本量>=3的brand进行测试"
   ]
  },
  {
   "cell_type": "code",
   "execution_count": 21,
   "metadata": {},
   "outputs": [
    {
     "name": "stdout",
     "output_type": "stream",
     "text": [
      "15323\n"
     ]
    }
   ],
   "source": [
    "choosed_brand=brand_time_df[brand_time_df['frequency']>=3]['brand'].unique().tolist()\n",
    "print(len(choosed_brand))"
   ]
  },
  {
   "cell_type": "code",
   "execution_count": 22,
   "metadata": {},
   "outputs": [
    {
     "name": "stdout",
     "output_type": "stream",
     "text": [
      "2118\n",
      "['23YEARSOLD', '嘉康利', 'CONY', '1831', 'YUZUN', 'ZNG', 'SWEETCOLO', 'CELLINA', 'SMOOTHSKIN', 'HRR', '瑷尔博士', 'DRALVA', '涵诚', 'TIVERTON', '自由膜法', '柏溪', '奈偲好优可', '红爱', '茶颜', '民联', '康先富的', '果佳果木', 'SACRUM', 'ISISPHARMA', '伊姿法玛', 'HAIRCUBE', '格格驾到', '初肌音', 'RYDEEN', 'FERNZ', '骄微尔', '逆光之谜', '安捷莉娜', '蕊珂', '美妮达', '黎芙莎', '医美霖', '诺思豪', '安婷', '乐宁清', 'ALAL', '肤见', 'NISEI', '云妞', 'AUX', '美颜嘎嘎', '美添沁', '莳语', '花茜茜', '爱柔肤']\n"
     ]
    }
   ],
   "source": [
    "\"\"\"用以下品牌进行测试\"\"\"\n",
    "test_brand=brand_time_df[brand_time_df['frequency']==3]\n",
    "print(len(test_brand))\n",
    "print(test_brand['brand'][:50].tolist())"
   ]
  },
  {
   "cell_type": "code",
   "execution_count": 23,
   "metadata": {},
   "outputs": [
    {
     "name": "stdout",
     "output_type": "stream",
     "text": [
      "(4220070, 26)\n",
      "(3027224, 26)\n"
     ]
    }
   ],
   "source": [
    "train_df=train[train['desc_key'].str.contains('|'.join(choosed_brand))]\n",
    "print(train.shape)\n",
    "print(train_df.shape)"
   ]
  },
  {
   "cell_type": "code",
   "execution_count": 26,
   "metadata": {},
   "outputs": [
    {
     "name": "stdout",
     "output_type": "stream",
     "text": [
      "0.7173397597670181\n"
     ]
    }
   ],
   "source": [
    "print(len(train_df)/len(train))"
   ]
  },
  {
   "cell_type": "code",
   "execution_count": 24,
   "metadata": {},
   "outputs": [],
   "source": [
    "train_df.to_csv('train_ner_3_bieo.csv',index=False,encoding='utf-8')"
   ]
  },
  {
   "cell_type": "code",
   "execution_count": 25,
   "metadata": {},
   "outputs": [
    {
     "name": "stdout",
     "output_type": "stream",
     "text": [
      "(299402, 14)\n"
     ]
    },
    {
     "data": {
      "text/plain": [
       "0"
      ]
     },
     "execution_count": 25,
     "metadata": {},
     "output_type": "execute_result"
    }
   ],
   "source": [
    "test=pd.read_csv('test_ner_bieo.csv')\n",
    "print(test.shape)\n",
    "test.to_csv('test_ner_3_bieo.csv',index=False,encoding='utf-8')\n",
    "gc.collect()"
   ]
  },
  {
   "cell_type": "markdown",
   "metadata": {},
   "source": [
    "#### <font color=red>首先,删除那些不是真实brand的brand<br>然后，对于那些样本量<3的brand做数据增强,最好不要用到categ，否则一定要注意替换的时候，一定要同categ下替换实体"
   ]
  },
  {
   "cell_type": "code",
   "execution_count": null,
   "metadata": {},
   "outputs": [],
   "source": []
  },
  {
   "cell_type": "code",
   "execution_count": null,
   "metadata": {},
   "outputs": [],
   "source": []
  },
  {
   "cell_type": "code",
   "execution_count": null,
   "metadata": {},
   "outputs": [],
   "source": []
  },
  {
   "cell_type": "code",
   "execution_count": null,
   "metadata": {},
   "outputs": [],
   "source": []
  }
 ],
 "metadata": {
  "kernelspec": {
   "display_name": "py_tf_1",
   "language": "python",
   "name": "py_tf_1"
  },
  "language_info": {
   "codemirror_mode": {
    "name": "ipython",
    "version": 3
   },
   "file_extension": ".py",
   "mimetype": "text/x-python",
   "name": "python",
   "nbconvert_exporter": "python",
   "pygments_lexer": "ipython3",
   "version": "3.6.9"
  }
 },
 "nbformat": 4,
 "nbformat_minor": 4
}
