{
 "cells": [
  {
   "cell_type": "markdown",
   "metadata": {},
   "source": [
    "#### <font color=red>2021/2/9 本版本<br>(1)部分底层数据重清洗，做到brand和goods中的一致;<br>(2)数据增强以后测试少样本品牌的ner预测;<br><br>下次版本<br>(1)加入天猫/淘宝/京东等第三方统计好的我们没有的品牌；<br>(2)确认所有品牌是真实有效的，进行人工核检;<br>(3)如果上面版本测试的数据增强的效果可以的话，则购买第三方完整的品牌数据后做数据增强;<br><br>下下次版本<br>(1)加入品类标签,CNT-B,CNT-I;<br>(2)制作品牌+国家的映射表，直接自动化处理dupont的国家的5个master字段；"
   ]
  },
  {
   "cell_type": "code",
   "execution_count": 1,
   "metadata": {},
   "outputs": [],
   "source": [
    "import numpy as np\n",
    "import pandas as pd\n",
    "from collections import Counter\n",
    "from sqlalchemy import create_engine\n",
    "import time,gc,os,re,sys,re,jieba,os,math\n",
    "from datetime import datetime\n",
    "import warnings\n",
    "warnings.filterwarnings('ignore')"
   ]
  },
  {
   "cell_type": "code",
   "execution_count": 2,
   "metadata": {},
   "outputs": [],
   "source": [
    "def check_cols(df):\n",
    "    cols=df.columns.tolist()\n",
    "    leng=int(len(cols)/5)+1\n",
    "    for i in range(leng):\n",
    "        tmp=df.iloc[:5,i*6:(i+1)*6]\n",
    "        print(tmp.head())\n",
    "        print('-'*30)\n",
    "\n",
    "def check_miss_ratio(df):\n",
    "    missdf=pd.isnull(df).sum().reset_index(name='miss_cnt')\n",
    "    missdf.columns=['col','miss_cnt']\n",
    "    missdf['miss_ratio']=missdf['miss_cnt']/df.shape[0]\n",
    "    print(missdf.head(20))\n",
    "    return missdf"
   ]
  },
  {
   "cell_type": "markdown",
   "metadata": {},
   "source": [
    "#### <font color=red>20210209修改：不做补充缺失值，直接使用所有的字段"
   ]
  },
  {
   "cell_type": "code",
   "execution_count": 3,
   "metadata": {},
   "outputs": [],
   "source": [
    "# great_dic={'乐玩美研':'BCL','欧莱雅':'巴黎欧莱雅',\"L'OREAL\":\"L'OREALPARIS\",\"自然乐园\":\"自然共和国\",\"乔治阿玛尼\":\"阿玛尼\",\n",
    "#            \"GIORGIOARMANI\":\"ARMANI\",\"AEKYUNG\":\"AEKYUNGAGE'S\",\"伊诗露\":\"伊特露\"}"
   ]
  },
  {
   "cell_type": "code",
   "execution_count": 4,
   "metadata": {},
   "outputs": [],
   "source": [
    "def auto_mark_1(s,k):\n",
    "    leng=len(s)\n",
    "    lst=[]\n",
    "    \n",
    "    summ=0\n",
    "    for i in range(leng):\n",
    "        word=s[i]\n",
    "        if word!=k[0]:\n",
    "            lst.append('O')\n",
    "            summ+=1\n",
    "        elif word==k[0]:\n",
    "            lst.append('BRD-B')\n",
    "            for j in range(i+1,leng):\n",
    "                word1=s[j]\n",
    "                if word1 in k:\n",
    "                    lst.append('BRD-I')\n",
    "                    summ+=1\n",
    "                else:\n",
    "                    break\n",
    "    return s\n",
    "\n",
    "\n",
    "def get_key_brd(k):\n",
    "    if type(k)=='float':\n",
    "        k=str(int(k))\n",
    "    leng=len(k)\n",
    "    lst=['BRD-B']\n",
    "    for i in range(leng-1):\n",
    "        lst.append('BRD-I')\n",
    "    return lst\n",
    "\n",
    "\n",
    "def auto_mark_2(s,k):\n",
    "    klist=get_key_brd(k)\n",
    "\n",
    "    s_leng=len(s)\n",
    "    \n",
    "    final_s_2=[]\n",
    "    if k in s:\n",
    "        s=s.replace(k,'#BRD#')\n",
    "        lst=s.split('#BRD#')\n",
    "        lst1=lst[0]\n",
    "        if lst1=='':\n",
    "            final_s_2.extend(klist)\n",
    "            for i in range(1,len(lst)):\n",
    "                if lst[i]:\n",
    "                    new_list=[x for x in lst[i]]\n",
    "                    final_s_2.extend('O'*len(new_list))\n",
    "                    if i!=len(lst)-1:\n",
    "                        final_s_2.extend(klist)\n",
    "                    else:\n",
    "                        continue\n",
    "\n",
    "        else:\n",
    "            for i in range(len(lst)):\n",
    "                if lst[i]:\n",
    "                    new_list=[x for x in lst[i]]\n",
    "                    final_s_2.extend('O'*len(new_list))\n",
    "                    if i!=len(lst)-1:\n",
    "                        final_s_2.extend(klist)\n",
    "                    else:\n",
    "                        continue\n",
    "    return ','.join(final_s_2)\n",
    "\n",
    "\n",
    "def auto_mark_3(s,k):\n",
    "\n",
    "    klist=get_key_brd(k)\n",
    "    \n",
    "    lst=[]\n",
    "    if s==k:\n",
    "        lst.extend(klist)\n",
    "    else:\n",
    "        ss=s.split(k)\n",
    "        for i in range(len(ss)):\n",
    "            if ss[i]=='':\n",
    "                if i!=len(ss)-1:\n",
    "                     lst.extend(klist)\n",
    "            else:\n",
    "                lst.extend(['O' for x in ss[i]])\n",
    "                if i!=len(ss)-1:\n",
    "                    lst.extend(klist)\n",
    "    leng=len(lst)\n",
    "    return ','.join(lst),leng\n",
    "\n",
    "def auto_mark_33(s,k):\n",
    "    if type(k)=='float':\n",
    "        k=str(int(k))\n",
    "        \n",
    "    klist=get_key_brd(k)\n",
    "    \n",
    "    lst=[]\n",
    "    if s==k:\n",
    "        lst.extend(klist)\n",
    "    else:\n",
    "        ss=s.split(k)\n",
    "        for i in range(len(ss)):\n",
    "            if ss[i]=='':\n",
    "                if i!=len(ss)-1:\n",
    "                     lst.extend(klist)\n",
    "            else:\n",
    "                lst.extend(['O' for x in ss[i]])\n",
    "                if i!=len(ss)-1:\n",
    "                    lst.extend(klist)\n",
    "    return ','.join(lst)"
   ]
  },
  {
   "cell_type": "code",
   "execution_count": 5,
   "metadata": {},
   "outputs": [
    {
     "name": "stdout",
     "output_type": "stream",
     "text": [
      "(4519931, 12)\n"
     ]
    }
   ],
   "source": [
    "df=pd.read_csv('data_1.csv')\n",
    "print(df.shape)"
   ]
  },
  {
   "cell_type": "code",
   "execution_count": 6,
   "metadata": {},
   "outputs": [],
   "source": [
    "df.loc[df['brand_dig'].notnull(),'brand_dig']=df[df['brand_dig'].notnull()]['brand_dig'].apply(lambda x:str(int(x)))"
   ]
  },
  {
   "cell_type": "code",
   "execution_count": 7,
   "metadata": {},
   "outputs": [],
   "source": [
    "def further_clean(v):\n",
    "    v=str(v).replace(' ','')\n",
    "    v=v.upper()\n",
    "    pattern='[^0-9A-Z\\u4e00-\\u9fa5]'\n",
    "    v=re.sub(pattern,'',v)\n",
    "    return v"
   ]
  },
  {
   "cell_type": "code",
   "execution_count": 8,
   "metadata": {},
   "outputs": [],
   "source": [
    "str_cols=['brand', 'brand_cn', 'brand_cn_fill', 'brand_dig', 'brand_en', 'brand_en_fill', 'company_cn', 'company_en', 'desc']\n",
    "\n",
    "for col in str_cols:\n",
    "    df.loc[(df[col].notnull())&(df[col]!=''),col]=df[(df[col].notnull())&(df[col]!='')][col].apply(lambda x:further_clean(x))\n",
    "    gc.collect()"
   ]
  },
  {
   "cell_type": "code",
   "execution_count": 9,
   "metadata": {},
   "outputs": [],
   "source": [
    "new_brand_col_dict={'赫妍':'赫拉', '悦诗风吟':'风吟', '乔治阿玛尼':'阿玛尼', '伊蒂之屋':'爱丽小屋', '纪梵希':'紀梵希',\n",
    "                    '珂莱欧':'可莱欧', '魅可':'MAC', '玛丽黛佳':'玛丽佳人', '资生堂':'資生堂',\n",
    "                    '倩碧':'倩倩', '芭比波朗':'波比布朗', '兰蔻':'兰KOU', '菲诗小铺':'菲斯小铺',\n",
    "                    \"SWEETCOLOR\":\"SWEETCOLO\",\n",
    "                    \"ILLAMASQUA\":\"ILLAMASUQA\",\n",
    "                    \"姬芮\":\"ZA\", \"HOLIKAHOLIKA\":\"HOLIKA\", \"三熹玉\":\"3CE\", \"雪詩緹\":\"雪诗缇\", \"THREE\":\"777\",\n",
    "                    \"曼秀雷敦\":\"曼秀雷\", \"SMITHCHU\":\"禇铁匠\",\"DRECODE\":\"DRECDE\"}"
   ]
  },
  {
   "cell_type": "code",
   "execution_count": 10,
   "metadata": {},
   "outputs": [],
   "source": [
    "df.loc[df['brand_cn'].notnull(),'brand_cn_simple']=df[df['brand_cn'].notnull()]['brand_cn'].apply(lambda x:new_brand_col_dict[x] if x in new_brand_col_dict else np.nan)\n",
    "df.loc[(df['brand_cn_simple'].isnull())&(df['brand_en'].notnull()),'brand_cn_simple']=df[(df['brand_cn_simple'].isnull())&(df['brand_en'].notnull())]['brand_en'].apply(lambda x:new_brand_col_dict[x] if x in new_brand_col_dict else np.nan)"
   ]
  },
  {
   "cell_type": "code",
   "execution_count": 11,
   "metadata": {},
   "outputs": [],
   "source": [
    "for col in str_cols:\n",
    "    df.loc[df[col]=='',col]=np.nan\n",
    "    df.loc[df[col]=='nan',col]=np.nan\n",
    "    gc.collect()"
   ]
  },
  {
   "cell_type": "code",
   "execution_count": 12,
   "metadata": {},
   "outputs": [
    {
     "name": "stdout",
     "output_type": "stream",
     "text": [
      "(4519472, 13)\n"
     ]
    }
   ],
   "source": [
    "dff=df[df['desc'].notnull()]\n",
    "print(dff.shape)"
   ]
  },
  {
   "cell_type": "code",
   "execution_count": 13,
   "metadata": {},
   "outputs": [
    {
     "name": "stdout",
     "output_type": "stream",
     "text": [
      "(299402, 13)\n"
     ]
    }
   ],
   "source": [
    "test=dff[(dff['brand_cn'].isnull())&(dff['brand_cn_fill'].isnull())&(dff['brand_dig'].isnull())&(dff['brand_en'].isnull())&(dff['brand_en_fill'].isnull())&(dff['company_cn'].isnull())&(dff['company_en'].isnull())&(dff['brand_cn_simple'].isnull())]\n",
    "print(test.shape)"
   ]
  },
  {
   "cell_type": "code",
   "execution_count": 14,
   "metadata": {},
   "outputs": [
    {
     "name": "stdout",
     "output_type": "stream",
     "text": [
      "(4220070, 13)\n"
     ]
    }
   ],
   "source": [
    "train=dff[~dff['id'].isin(set(test['id']))]\n",
    "print(train.shape)"
   ]
  },
  {
   "cell_type": "code",
   "execution_count": 15,
   "metadata": {},
   "outputs": [
    {
     "name": "stdout",
     "output_type": "stream",
     "text": [
      "0.9337528808674995\n"
     ]
    }
   ],
   "source": [
    "print(len(train)/len(dff))"
   ]
  },
  {
   "cell_type": "code",
   "execution_count": 16,
   "metadata": {},
   "outputs": [
    {
     "data": {
      "text/plain": [
       "7"
      ]
     },
     "execution_count": 16,
     "metadata": {},
     "output_type": "execute_result"
    }
   ],
   "source": [
    "train=train.reset_index(drop=True)\n",
    "train['leng']=train['desc'].apply(len)\n",
    "gc.collect()"
   ]
  },
  {
   "cell_type": "code",
   "execution_count": 17,
   "metadata": {},
   "outputs": [
    {
     "data": {
      "text/plain": [
       "7"
      ]
     },
     "execution_count": 17,
     "metadata": {},
     "output_type": "execute_result"
    }
   ],
   "source": [
    "test=test.reset_index(drop=True)\n",
    "test['leng']=test['desc'].apply(len)\n",
    "gc.collect()"
   ]
  },
  {
   "cell_type": "code",
   "execution_count": 18,
   "metadata": {},
   "outputs": [],
   "source": [
    "# for col in ['brand_cn', 'brand_cn_fill', 'brand_dig', 'brand_en', 'brand_en_fill', 'company_cn', 'company_en', 'brand_cn_simple']:\n",
    "#     print(col)\n",
    "#     train[col]=train[col].astype(str)"
   ]
  },
  {
   "cell_type": "code",
   "execution_count": 19,
   "metadata": {},
   "outputs": [],
   "source": [
    "# check1=train[train['brand_cn']=='']\n",
    "# print(check1.shape)\n",
    "# check2=train[train['brand_cn'].isnull()]\n",
    "# print(check2.shape)\n",
    "# check3=train[train['brand_cn']=='nan']\n",
    "# print(check3.shape)\n",
    "# gc.collect()"
   ]
  },
  {
   "cell_type": "code",
   "execution_count": 20,
   "metadata": {},
   "outputs": [],
   "source": [
    "train['brand_cn']=train['brand_cn'].astype(str)"
   ]
  },
  {
   "cell_type": "code",
   "execution_count": 21,
   "metadata": {},
   "outputs": [],
   "source": [
    "def check_col(tmp,col):\n",
    "    check1=tmp[tmp[col].isnull()]\n",
    "    print(check1.shape)\n",
    "    check2=tmp[tmp[col]=='']\n",
    "    print(check2.shape)\n",
    "    check3=tmp[tmp[col]=='nan']\n",
    "    print(check3.shape)"
   ]
  },
  {
   "cell_type": "code",
   "execution_count": 22,
   "metadata": {},
   "outputs": [
    {
     "name": "stdout",
     "output_type": "stream",
     "text": [
      "(0, 14)\n",
      "(0, 14)\n",
      "(991616, 14)\n"
     ]
    }
   ],
   "source": [
    "check_col(train,'brand_cn')"
   ]
  },
  {
   "cell_type": "code",
   "execution_count": 23,
   "metadata": {},
   "outputs": [
    {
     "name": "stdout",
     "output_type": "stream",
     "text": [
      "id          0\n",
      "brand_cn    0\n",
      "dtype: int64\n"
     ]
    }
   ],
   "source": [
    "print(pd.isnull(train[['id','brand_cn']]).sum())"
   ]
  },
  {
   "cell_type": "code",
   "execution_count": 24,
   "metadata": {},
   "outputs": [],
   "source": [
    "train['brand_cn_ner']=train[['desc','brand_cn']].apply(lambda row:auto_mark_33(row[0],row[1]),raw=True,axis=1)"
   ]
  },
  {
   "cell_type": "code",
   "execution_count": 25,
   "metadata": {},
   "outputs": [],
   "source": [
    "train['brand_cn_fill']=train['brand_cn_fill'].astype(str)"
   ]
  },
  {
   "cell_type": "code",
   "execution_count": 26,
   "metadata": {},
   "outputs": [
    {
     "name": "stdout",
     "output_type": "stream",
     "text": [
      "(0, 15)\n",
      "(0, 15)\n",
      "(1410252, 15)\n"
     ]
    }
   ],
   "source": [
    "check_col(train,'brand_cn_fill')"
   ]
  },
  {
   "cell_type": "code",
   "execution_count": 27,
   "metadata": {},
   "outputs": [
    {
     "name": "stdout",
     "output_type": "stream",
     "text": [
      "id               0\n",
      "brand_cn_fill    0\n",
      "dtype: int64\n"
     ]
    }
   ],
   "source": [
    "print(pd.isnull(train[['id','brand_cn_fill']]).sum())"
   ]
  },
  {
   "cell_type": "code",
   "execution_count": 29,
   "metadata": {},
   "outputs": [],
   "source": [
    "train['brand_cn_fill_ner']=train[['desc','brand_cn_fill']].apply(lambda row:auto_mark_33(row[0],row[1]),raw=True,axis=1)"
   ]
  },
  {
   "cell_type": "code",
   "execution_count": 30,
   "metadata": {},
   "outputs": [],
   "source": [
    "train['brand_en']=train['brand_en'].astype(str)\n",
    "train['brand_en_ner']=train[['desc','brand_en']].apply(lambda row:auto_mark_33(row[0],row[1]),raw=True,axis=1)"
   ]
  },
  {
   "cell_type": "code",
   "execution_count": 31,
   "metadata": {},
   "outputs": [],
   "source": [
    "train['brand_en_fill']=train['brand_en_fill'].astype(str)\n",
    "train['brand_en_fill_ner']=train[['desc','brand_en_fill']].apply(lambda row:auto_mark_33(row[0],row[1]),raw=True,axis=1)\n",
    "gc.collect()"
   ]
  },
  {
   "cell_type": "code",
   "execution_count": 33,
   "metadata": {},
   "outputs": [],
   "source": [
    "train['company_cn']=train['company_cn'].astype(str)\n",
    "train['company_cn_ner']=train[['desc','company_cn']].apply(lambda row:auto_mark_33(row[0],row[1]),raw=True,axis=1)"
   ]
  },
  {
   "cell_type": "code",
   "execution_count": 34,
   "metadata": {},
   "outputs": [],
   "source": [
    "train['company_en']=train['company_en'].astype(str)\n",
    "train['company_en_ner']=train[['desc','company_en']].apply(lambda row:auto_mark_33(row[0],row[1]),raw=True,axis=1)"
   ]
  },
  {
   "cell_type": "code",
   "execution_count": 35,
   "metadata": {},
   "outputs": [],
   "source": [
    "train['brand_dig']=train['brand_dig'].astype(str)\n",
    "train['brand_dig_ner']=train[['desc','brand_dig']].apply(lambda row:auto_mark_33(row[0],row[1]),raw=True,axis=1)"
   ]
  },
  {
   "cell_type": "code",
   "execution_count": 36,
   "metadata": {},
   "outputs": [],
   "source": [
    "train['brand_cn_simple']=train['brand_cn_simple'].astype(str)\n",
    "train['brand_cn_simple_ner']=train[['desc','brand_cn_simple']].apply(lambda row:auto_mark_33(row[0],row[1]),raw=True,axis=1)"
   ]
  },
  {
   "cell_type": "code",
   "execution_count": 37,
   "metadata": {},
   "outputs": [
    {
     "data": {
      "text/plain": [
       "28"
      ]
     },
     "execution_count": 37,
     "metadata": {},
     "output_type": "execute_result"
    }
   ],
   "source": [
    "gc.collect()"
   ]
  },
  {
   "cell_type": "code",
   "execution_count": 38,
   "metadata": {},
   "outputs": [
    {
     "data": {
      "text/html": [
       "<div>\n",
       "<style scoped>\n",
       "    .dataframe tbody tr th:only-of-type {\n",
       "        vertical-align: middle;\n",
       "    }\n",
       "\n",
       "    .dataframe tbody tr th {\n",
       "        vertical-align: top;\n",
       "    }\n",
       "\n",
       "    .dataframe thead th {\n",
       "        text-align: right;\n",
       "    }\n",
       "</style>\n",
       "<table border=\"1\" class=\"dataframe\">\n",
       "  <thead>\n",
       "    <tr style=\"text-align: right;\">\n",
       "      <th></th>\n",
       "      <th>id</th>\n",
       "      <th>desc</th>\n",
       "      <th>brand_cn_simple_ner</th>\n",
       "      <th>brand_cn_ner</th>\n",
       "    </tr>\n",
       "  </thead>\n",
       "  <tbody>\n",
       "    <tr>\n",
       "      <th>0</th>\n",
       "      <td>10023690981294</td>\n",
       "      <td>943934脸部温和眼部无刺激清洁女敏感肌氨基酸卸妆水280ML脸部任何肤质国产</td>\n",
       "      <td>O,O,O,O,O,O,O,O,O,O,O,O,O,O,O,O,O,O,O,O,O,O,O,...</td>\n",
       "      <td>O,O,O,O,O,O,O,O,O,O,O,O,O,O,O,O,O,O,O,O,O,O,O,...</td>\n",
       "    </tr>\n",
       "    <tr>\n",
       "      <th>1</th>\n",
       "      <td>10313567492</td>\n",
       "      <td>超值推荐美国品牌大号眼影刷和小号眼影刷柔软小马毛</td>\n",
       "      <td>O,O,O,O,O,O,O,O,O,O,O,O,O,O,O,O,O,O,O,O,O,O,O,O</td>\n",
       "      <td>O,O,O,O,O,O,O,O,O,O,O,O,O,O,O,O,O,O,O,O,O,O,O,O</td>\n",
       "    </tr>\n",
       "    <tr>\n",
       "      <th>2</th>\n",
       "      <td>10315667189</td>\n",
       "      <td>冲四冠好用的环保ECOTOOLS化妆刷4件套天然竹子柄送刷包</td>\n",
       "      <td>O,O,O,O,O,O,O,O,O,O,O,O,O,O,O,O,O,O,O,O,O,O,O,...</td>\n",
       "      <td>O,O,O,O,O,O,O,O,O,O,O,O,O,O,O,O,O,O,O,O,O,O,O,...</td>\n",
       "    </tr>\n",
       "    <tr>\n",
       "      <th>3</th>\n",
       "      <td>10678807752</td>\n",
       "      <td>7折特价PHILOSOPHY半圆型便携版散粉腮红刷可放置粉盒内</td>\n",
       "      <td>O,O,O,O,O,O,O,O,O,O,O,O,O,O,O,O,O,O,O,O,O,O,O,...</td>\n",
       "      <td>O,O,O,O,BRD-B,BRD-I,BRD-I,BRD-I,BRD-I,BRD-I,BR...</td>\n",
       "    </tr>\n",
       "    <tr>\n",
       "      <th>4</th>\n",
       "      <td>11185298785</td>\n",
       "      <td>1611面若桃花气垫BB霜12G2盒送替换装底妆自然色裸妆粉饼遮瑕保湿隔离霜粉底液</td>\n",
       "      <td>O,O,O,O,O,O,O,O,O,O,O,O,O,O,O,O,O,O,O,O,O,O,O,...</td>\n",
       "      <td>O,O,O,O,O,O,O,O,O,O,O,O,O,O,O,O,O,O,O,O,O,O,O,...</td>\n",
       "    </tr>\n",
       "  </tbody>\n",
       "</table>\n",
       "</div>"
      ],
      "text/plain": [
       "               id                                       desc  \\\n",
       "0  10023690981294   943934脸部温和眼部无刺激清洁女敏感肌氨基酸卸妆水280ML脸部任何肤质国产   \n",
       "1     10313567492                   超值推荐美国品牌大号眼影刷和小号眼影刷柔软小马毛   \n",
       "2     10315667189             冲四冠好用的环保ECOTOOLS化妆刷4件套天然竹子柄送刷包   \n",
       "3     10678807752            7折特价PHILOSOPHY半圆型便携版散粉腮红刷可放置粉盒内   \n",
       "4     11185298785  1611面若桃花气垫BB霜12G2盒送替换装底妆自然色裸妆粉饼遮瑕保湿隔离霜粉底液   \n",
       "\n",
       "                                 brand_cn_simple_ner  \\\n",
       "0  O,O,O,O,O,O,O,O,O,O,O,O,O,O,O,O,O,O,O,O,O,O,O,...   \n",
       "1    O,O,O,O,O,O,O,O,O,O,O,O,O,O,O,O,O,O,O,O,O,O,O,O   \n",
       "2  O,O,O,O,O,O,O,O,O,O,O,O,O,O,O,O,O,O,O,O,O,O,O,...   \n",
       "3  O,O,O,O,O,O,O,O,O,O,O,O,O,O,O,O,O,O,O,O,O,O,O,...   \n",
       "4  O,O,O,O,O,O,O,O,O,O,O,O,O,O,O,O,O,O,O,O,O,O,O,...   \n",
       "\n",
       "                                        brand_cn_ner  \n",
       "0  O,O,O,O,O,O,O,O,O,O,O,O,O,O,O,O,O,O,O,O,O,O,O,...  \n",
       "1    O,O,O,O,O,O,O,O,O,O,O,O,O,O,O,O,O,O,O,O,O,O,O,O  \n",
       "2  O,O,O,O,O,O,O,O,O,O,O,O,O,O,O,O,O,O,O,O,O,O,O,...  \n",
       "3  O,O,O,O,BRD-B,BRD-I,BRD-I,BRD-I,BRD-I,BRD-I,BR...  \n",
       "4  O,O,O,O,O,O,O,O,O,O,O,O,O,O,O,O,O,O,O,O,O,O,O,...  "
      ]
     },
     "execution_count": 38,
     "metadata": {},
     "output_type": "execute_result"
    }
   ],
   "source": [
    "train[['id','desc','brand_cn_simple_ner','brand_cn_ner']].head()"
   ]
  },
  {
   "cell_type": "code",
   "execution_count": 39,
   "metadata": {},
   "outputs": [
    {
     "data": {
      "text/plain": [
       "10"
      ]
     },
     "execution_count": 39,
     "metadata": {},
     "output_type": "execute_result"
    }
   ],
   "source": [
    "gc.collect()"
   ]
  },
  {
   "cell_type": "code",
   "execution_count": 40,
   "metadata": {},
   "outputs": [],
   "source": [
    "def get_final_ner(v1,v2,v3,v4,v5,v6,v7,v8,leng):\n",
    "    v1=list(v1.split(','))\n",
    "    v2=list(v2.split(','))\n",
    "    v3=list(v3.split(','))\n",
    "    v4=list(v4.split(','))\n",
    "    v5=list(v5.split(','))\n",
    "    v6=list(v6.split(','))\n",
    "    v7=list(v7.split(','))\n",
    "    v8=list(v8.split(','))\n",
    "    \n",
    "    if len(v1)==len(v2)==len(v3)==leng:\n",
    "        new_lst=[]\n",
    "        for i in range(leng):\n",
    "            v11=v1[i]\n",
    "            v22=v2[i]\n",
    "            v33=v3[i]\n",
    "            v44=v4[i]\n",
    "            v55=v5[i]\n",
    "            v66=v6[i]\n",
    "            v77=v7[i]\n",
    "            v88=v8[i]\n",
    "            if 'BRD-I' in [v11,v22,v33,v44,v55,v66,v77,v88]: #注意里面有顺序关系，比如悦诗风吟和风吟\n",
    "                new_lst.append('BRD-I')\n",
    "            elif 'BRD-B' in [v11,v22,v33,v44,v55,v66,v77,v88]:\n",
    "                new_lst.append('BRD-B')\n",
    "            else:\n",
    "                new_lst.append('O')\n",
    "        return ','.join(new_lst)\n",
    "    else:\n",
    "        return 'wrong'"
   ]
  },
  {
   "cell_type": "code",
   "execution_count": 41,
   "metadata": {},
   "outputs": [
    {
     "data": {
      "text/plain": [
       "7"
      ]
     },
     "execution_count": 41,
     "metadata": {},
     "output_type": "execute_result"
    }
   ],
   "source": [
    "train['final_ner']=list(map(lambda a,b,c,d,e,f,g,h,leng:get_final_ner(a,b,c,d,e,f,g,h,leng),train['brand_cn_ner'],train['brand_en_ner'],train['company_cn_ner'],train['company_en_ner'],train['brand_cn_simple_ner'],train['brand_cn_fill_ner'],train['brand_en_fill_ner'],train['brand_dig_ner'],train['leng']))\n",
    "gc.collect()"
   ]
  },
  {
   "cell_type": "code",
   "execution_count": 42,
   "metadata": {},
   "outputs": [
    {
     "name": "stdout",
     "output_type": "stream",
     "text": [
      "(0, 23)\n"
     ]
    },
    {
     "data": {
      "text/plain": [
       "0"
      ]
     },
     "execution_count": 42,
     "metadata": {},
     "output_type": "execute_result"
    }
   ],
   "source": [
    "check=train[train['final_ner']=='wrong']\n",
    "print(check.shape)\n",
    "if len(check)>0:\n",
    "    check.to_csv('ner_wrong_check.csv',index=False,encoding='utf-8-sig')\n",
    "gc.collect()"
   ]
  },
  {
   "cell_type": "code",
   "execution_count": 43,
   "metadata": {},
   "outputs": [
    {
     "name": "stdout",
     "output_type": "stream",
     "text": [
      "1.0\n"
     ]
    },
    {
     "data": {
      "text/plain": [
       "0"
      ]
     },
     "execution_count": 43,
     "metadata": {},
     "output_type": "execute_result"
    }
   ],
   "source": [
    "train_df=train[train['final_ner']!='wrong']\n",
    "print(len(train_df)/len(train))\n",
    "train_df.to_csv('train_ner.csv',index=False,encoding='utf-8-sig')\n",
    "gc.collect()"
   ]
  },
  {
   "cell_type": "code",
   "execution_count": 44,
   "metadata": {},
   "outputs": [
    {
     "data": {
      "text/plain": [
       "0"
      ]
     },
     "execution_count": 44,
     "metadata": {},
     "output_type": "execute_result"
    }
   ],
   "source": [
    "test_df=test.copy()\n",
    "test_df.to_csv('test_ner.csv',index=False,encoding='utf-8-sig')\n",
    "gc.collect()"
   ]
  },
  {
   "cell_type": "markdown",
   "metadata": {},
   "source": [
    "### <font color=red>检查train_ner"
   ]
  },
  {
   "cell_type": "markdown",
   "metadata": {},
   "source": [
    "#### <font color=blue>(1)检查整体"
   ]
  },
  {
   "cell_type": "code",
   "execution_count": 45,
   "metadata": {},
   "outputs": [
    {
     "name": "stdout",
     "output_type": "stream",
     "text": [
      "开始检查整体\n",
      "预订韩国免税店代购DARPHIN朵法花梨木按摩洁面膏40ML\n",
      "O,O,O,O,O,O,O,O,O,BRD-B,BRD-I,BRD-I,BRD-I,BRD-I,BRD-I,BRD-I,O,O,O,O,O,O,O,O,O,O,O,O,O,O\n",
      "迪梵\n",
      "DARPHIN\n",
      "2050\n",
      "2050\n",
      "----------------------------------------\n",
      "WM不沾杯不脱色豆沙脏橘吃土色唇釉南瓜色唇漆防水唇彩买二送一\n",
      "O,O,O,O,O,O,O,O,O,O,O,O,O,O,O,O,O,O,O,O,O,O,O,O,O,O,O,O,O,O\n",
      "nan\n",
      "nan\n",
      "919\n",
      "919\n",
      "----------------------------------------\n",
      "保湿绿茶薰衣草卸妆泡沫\n",
      "O,O,O,O,O,O,O,O,O,O,O\n",
      "nan\n",
      "nan\n",
      "2050\n",
      "2050\n",
      "----------------------------------------\n",
      "1905面膜刷自制面膜扫纤维柔面膜软毛刷涂面膜工具刷\n",
      "BRD-B,BRD-I,BRD-I,BRD-I,O,O,O,O,O,O,O,O,O,O,O,O,O,O,O,O,O,O,O,O,O,O\n",
      "nan\n",
      "nan\n",
      "1905\n",
      "1905\n",
      "----------------------------------------\n",
      "馥草堂美容院正品净颜控油洁面乳新包装带防伪包邮\n",
      "O,O,O,O,O,O,O,O,O,O,O,O,O,O,O,O,O,O,O,O,O,O,O\n",
      "nan\n",
      "nan\n",
      "2050\n",
      "2050\n",
      "----------------------------------------\n",
      "美容仪专用导出水清洁卸妆水正品脸部温和控油去污保湿收缩毛孔\n",
      "O,O,O,O,O,O,O,O,O,O,O,O,O,O,O,O,O,O,O,O,O,O,O,O,O,O,O,O,O\n",
      "nan\n",
      "nan\n",
      "2050\n",
      "2050\n",
      "----------------------------------------\n",
      "15色滋润唇彩口红盘裸色唇膏口红盒子板专业彩妆盘正品3色可选\n",
      "O,O,O,O,O,O,O,O,O,O,O,O,O,O,O,O,O,O,O,O,O,O,O,O,O,O,O,O,O,O\n",
      "nan\n",
      "nan\n",
      "919\n",
      "919\n",
      "----------------------------------------\n",
      "韩国秀丽缌自然卸妆霜150ML\n",
      "O,O,O,O,O,O,O,O,O,O,O,O,O,O,O\n",
      "nan\n",
      "nan\n",
      "2050\n",
      "2050\n",
      "----------------------------------------\n",
      "现货特价HANSKIN韩斯清O2祛黑头清净透洁卸妆油200ML\n",
      "O,O,O,O,BRD-B,BRD-I,BRD-I,BRD-I,BRD-I,BRD-I,BRD-I,BRD-B,BRD-I,BRD-I,O,O,O,O,O,O,O,O,O,O,O,O,O,O,O,O,O\n",
      "韩斯清\n",
      "HANSKIN\n",
      "2050\n",
      "2050\n",
      "----------------------------------------\n",
      "ZOVEA化妆刷8支12支15支套刷美妆工具化妆套装厂家直销\n",
      "O,O,O,O,O,O,O,O,O,O,O,O,O,O,O,O,O,O,O,O,O,O,O,O,O,O,O,O,O,O\n",
      "nan\n",
      "nan\n",
      "1905\n",
      "1905\n",
      "----------------------------------------\n",
      "纪烦西彩妆简装\n",
      "O,O,O,O,O,O,O\n",
      "nan\n",
      "nan\n",
      "3637\n",
      "3637\n",
      "----------------------------------------\n",
      "纯天然植物手工口红压盘小样试用保湿滋润可以吃唇炎可用6色\n",
      "O,O,O,O,O,O,O,O,O,O,O,O,O,O,O,O,O,O,O,O,O,O,O,O,O,O,O,O\n",
      "nan\n",
      "nan\n",
      "919\n",
      "919\n",
      "----------------------------------------\n",
      "口口时尚馆DIY口红管工具通用圆环121MM易脱最新版三代\n",
      "O,O,O,O,O,O,O,O,O,O,O,O,O,O,O,O,O,O,O,O,O,O,O,O,O,O,O,O,O\n",
      "nan\n",
      "nan\n",
      "919\n",
      "919\n",
      "----------------------------------------\n",
      "1905化妆刷收纳袋套刷单支刷收纳袋EVA袋环保防尘防水\n",
      "BRD-B,BRD-I,BRD-I,BRD-I,O,O,O,O,O,O,O,O,O,O,O,O,O,O,O,O,O,O,O,O,O,O,O,O\n",
      "nan\n",
      "nan\n",
      "1905\n",
      "1905\n",
      "----------------------------------------\n",
      "正品卸妆水喷雾深层清洁温和脸部眼唇卸妆油植物保湿卸妆乳液\n",
      "O,O,O,O,O,O,O,O,O,O,O,O,O,O,O,O,O,O,O,O,O,O,O,O,O,O,O,O\n",
      "nan\n",
      "nan\n",
      "2050\n",
      "2050\n",
      "----------------------------------------\n",
      "唇线笔唇笔正品裸色易上色防水持久不晕染不脱色咬唇口红笔免邮\n",
      "O,O,O,O,O,O,O,O,O,O,O,O,O,O,O,O,O,O,O,O,O,O,O,O,O,O,O,O,O\n",
      "nan\n",
      "nan\n",
      "6789\n",
      "6789\n",
      "----------------------------------------\n",
      "鎏金口红DIY手工唇釉人鱼色口红必备珠光粉钻石超闪粉进口亮闪粉\n",
      "O,O,O,O,O,O,O,O,O,O,O,O,O,O,O,O,O,O,O,O,O,O,O,O,O,O,O,O,O,O,O\n",
      "nan\n",
      "nan\n",
      "919\n",
      "919\n",
      "----------------------------------------\n",
      "四季蜂浆纸优美蜂浆纸HHA蜂浆纸100片正品全国包邮现货秒发\n",
      "O,O,O,O,O,O,O,O,O,O,O,O,O,O,O,O,O,O,O,O,O,O,O,O,O,O,O,O,O,O\n",
      "nan\n",
      "nan\n",
      "2050\n",
      "2050\n",
      "----------------------------------------\n",
      "韩国哎呀呀名创日本新款芦荟保湿洁净卸妆棉60片\n",
      "O,O,O,O,O,O,O,O,O,O,O,O,O,O,O,O,O,O,O,O,O,O,O\n",
      "nan\n",
      "nan\n",
      "2050\n",
      "2050\n",
      "----------------------------------------\n",
      "DIY卸妆油材料包清爽天然安全无添加5支装包邮\n",
      "O,O,O,O,O,O,O,O,O,O,O,O,O,O,O,O,O,O,O,O,O,O,O\n",
      "nan\n",
      "nan\n",
      "2050\n",
      "2050\n",
      "----------------------------------------\n"
     ]
    }
   ],
   "source": [
    "print('开始检查整体')\n",
    "for i in range(1000,1020,1):\n",
    "    print(train_df['desc'][i])\n",
    "    print(train_df['final_ner'][i])\n",
    "    print(train_df['brand_cn'][i])\n",
    "    print(train_df['brand_en'][i])\n",
    "    print(train_df['brand'][i])\n",
    "    print(train_df['brand_dig'][i])\n",
    "    print('-'*40)"
   ]
  },
  {
   "cell_type": "markdown",
   "metadata": {},
   "source": [
    "#### <font color=blue>(2)检查没有实体的数据"
   ]
  },
  {
   "cell_type": "code",
   "execution_count": 46,
   "metadata": {},
   "outputs": [],
   "source": [
    "#真正需要检查的是,都是O的这样的情况,看看里面确实是没有关键字还是因为品牌的名字多写了一个字母或者少写了一个字母\n",
    "def get_all_zero(v):\n",
    "    v=v.split(',')\n",
    "    s=0\n",
    "    for w in v:\n",
    "        if w=='O':\n",
    "            s+=1\n",
    "    if s==len(v):\n",
    "        return 'all_zero'\n",
    "    else:\n",
    "        return 'have_key'"
   ]
  },
  {
   "cell_type": "code",
   "execution_count": 47,
   "metadata": {},
   "outputs": [],
   "source": [
    "train_df['mark']=train_df['final_ner'].apply(get_all_zero)"
   ]
  },
  {
   "cell_type": "code",
   "execution_count": 48,
   "metadata": {},
   "outputs": [
    {
     "name": "stdout",
     "output_type": "stream",
     "text": [
      "(1189550, 24)\n"
     ]
    }
   ],
   "source": [
    "check=train_df[train_df['mark']=='all_zero'].reset_index(drop=True)\n",
    "print(check.shape)"
   ]
  },
  {
   "cell_type": "code",
   "execution_count": 49,
   "metadata": {},
   "outputs": [
    {
     "name": "stdout",
     "output_type": "stream",
     "text": [
      "开始检查都是O的数据\n",
      "便携式伸缩唇刷热卖彩妆化妆工具适用唇彩唇膏唇蜜\n",
      "O,O,O,O,O,O,O,O,O,O,O,O,O,O,O,O,O,O,O,O,O,O,O\n",
      "nan\n",
      "nan\n",
      "----------------------------------------\n",
      "天然环保竹子柄4支化妆刷套装腮红刷蜜粉刷眼影刷遮瑕刷包邮\n",
      "O,O,O,O,O,O,O,O,O,O,O,O,O,O,O,O,O,O,O,O,O,O,O,O,O,O,O,O\n",
      "nan\n",
      "nan\n",
      "----------------------------------------\n",
      "正品包邮化妆师初学者10支经典化妆刷套刷彩妆工具全套化妆扫\n",
      "O,O,O,O,O,O,O,O,O,O,O,O,O,O,O,O,O,O,O,O,O,O,O,O,O,O,O,O,O\n",
      "nan\n",
      "nan\n",
      "----------------------------------------\n",
      "指甲油按斤称厂家库存外贸尾货STOCK义乌小商品地摊2元店只批发\n",
      "O,O,O,O,O,O,O,O,O,O,O,O,O,O,O,O,O,O,O,O,O,O,O,O,O,O,O,O,O,O,O,O\n",
      "nan\n",
      "nan\n",
      "----------------------------------------\n",
      "新款外贸热销款9支动物毛化妆刷套装便携款\n",
      "O,O,O,O,O,O,O,O,O,O,O,O,O,O,O,O,O,O,O,O\n",
      "nan\n",
      "nan\n",
      "----------------------------------------\n",
      "大卷巾美容院必备全棉无纺布一次性洗面巾洁面巾美容巾化妆棉巾\n",
      "O,O,O,O,O,O,O,O,O,O,O,O,O,O,O,O,O,O,O,O,O,O,O,O,O,O,O,O,O\n",
      "nan\n",
      "nan\n",
      "----------------------------------------\n",
      "魔幻彩色环保指甲油无毒无味孕妇儿童可用持久光泽易吸收美甲油\n",
      "O,O,O,O,O,O,O,O,O,O,O,O,O,O,O,O,O,O,O,O,O,O,O,O,O,O,O,O,O\n",
      "nan\n",
      "nan\n",
      "----------------------------------------\n",
      "专业蘑菇刷刷桶便携式收纳包小刷桶\n",
      "O,O,O,O,O,O,O,O,O,O,O,O,O,O,O,O\n",
      "nan\n",
      "nan\n",
      "----------------------------------------\n",
      "NAPOLEONPERDISPOLISHINGBRUSH35R圆头小胖粉刷散粉刷\n",
      "O,O,O,O,O,O,O,O,O,O,O,O,O,O,O,O,O,O,O,O,O,O,O,O,O,O,O,O,O,O,O,O,O,O,O,O,O,O,O,O\n",
      "nan\n",
      "nan\n",
      "----------------------------------------\n",
      "双头刷就是这么好大圆头晕染刷斜角眼线刷眼线膏的绝配\n",
      "O,O,O,O,O,O,O,O,O,O,O,O,O,O,O,O,O,O,O,O,O,O,O,O,O\n",
      "nan\n",
      "nan\n",
      "----------------------------------------\n",
      "15新品水性可剥可撕无毒无味糖果色可日抛健康指彩油指甲油\n",
      "O,O,O,O,O,O,O,O,O,O,O,O,O,O,O,O,O,O,O,O,O,O,O,O,O,O,O,O\n",
      "nan\n",
      "nan\n",
      "----------------------------------------\n",
      "MAKEUPCAT魅猫顶级化妆刷套装刷高档动物毛系列送刷包\n",
      "O,O,O,O,O,O,O,O,O,O,O,O,O,O,O,O,O,O,O,O,O,O,O,O,O,O,O,O,O\n",
      "nan\n",
      "nan\n",
      "----------------------------------------\n",
      "高级油漆珠光粉汽车改色珍珠美甲甲油陶瓷家具角度变色龙10克\n",
      "O,O,O,O,O,O,O,O,O,O,O,O,O,O,O,O,O,O,O,O,O,O,O,O,O,O,O,O,O\n",
      "nan\n",
      "nan\n",
      "----------------------------------------\n",
      "修眉剪刀带眉梳修眉神器带梳眉剪\n",
      "O,O,O,O,O,O,O,O,O,O,O,O,O,O,O\n",
      "nan\n",
      "nan\n",
      "----------------------------------------\n",
      "A312潮值水润持久保湿滋润不脱色唇膏唇彩口红笔11色\n",
      "O,O,O,O,O,O,O,O,O,O,O,O,O,O,O,O,O,O,O,O,O,O,O,O,O,O,O\n",
      "nan\n",
      "nan\n",
      "----------------------------------------\n",
      "梦晓之家美国儿童宝宝变色指甲油水溶美甲产品无毒指甲油\n",
      "O,O,O,O,O,O,O,O,O,O,O,O,O,O,O,O,O,O,O,O,O,O,O,O,O,O\n",
      "nan\n",
      "nan\n",
      "----------------------------------------\n",
      "正品韩国口红液防水持久唇彩咬唇妆女不沾杯唇膏液体腮红胭脂水\n",
      "O,O,O,O,O,O,O,O,O,O,O,O,O,O,O,O,O,O,O,O,O,O,O,O,O,O,O,O,O\n",
      "nan\n",
      "nan\n",
      "----------------------------------------\n",
      "适合外出携带的QUO功能实用3件套装单支开卖\n",
      "O,O,O,O,O,O,O,O,O,O,O,O,O,O,O,O,O,O,O,O,O,O\n",
      "nan\n",
      "nan\n",
      "----------------------------------------\n",
      "A310可爱外形女士化妆16色滋润保湿唇彩唇膏口红\n",
      "O,O,O,O,O,O,O,O,O,O,O,O,O,O,O,O,O,O,O,O,O,O,O,O,O\n",
      "nan\n",
      "nan\n",
      "----------------------------------------\n",
      "夏季新款美甲香水糖果色优质纯色糖果色亮油指甲油特价5瓶包邮\n",
      "O,O,O,O,O,O,O,O,O,O,O,O,O,O,O,O,O,O,O,O,O,O,O,O,O,O,O,O,O\n",
      "nan\n",
      "nan\n",
      "----------------------------------------\n",
      "ARTEMIA专业美甲产品香港天美光疗胶光亮凝固液超亮封层\n",
      "O,O,O,O,O,O,O,O,O,O,O,O,O,O,O,O,O,O,O,O,O,O,O,O,O,O,O,O,O\n",
      "nan\n",
      "nan\n",
      "----------------------------------------\n",
      "美国明星品牌JOSIEMARAN原木刷杆腮红高光化妆刷官网2折\n",
      "O,O,O,O,O,O,O,O,O,O,O,O,O,O,O,O,O,O,O,O,O,O,O,O,O,O,O,O,O,O,O\n",
      "nan\n",
      "nan\n",
      "----------------------------------------\n",
      "可以站着的矿物粉刷你梳妆台的一道新风景实物美过图片\n",
      "O,O,O,O,O,O,O,O,O,O,O,O,O,O,O,O,O,O,O,O,O,O,O,O,O\n",
      "nan\n",
      "nan\n",
      "----------------------------------------\n",
      "大牌尾单伸缩刷口红刷腮红刷散粉刷人造毛顶级品质\n",
      "O,O,O,O,O,O,O,O,O,O,O,O,O,O,O,O,O,O,O,O,O,O,O\n",
      "nan\n",
      "nan\n",
      "----------------------------------------\n",
      "可爱卡通时尚假指甲炫彩女生美甲贴花多款修甲贴片精品店批发\n",
      "O,O,O,O,O,O,O,O,O,O,O,O,O,O,O,O,O,O,O,O,O,O,O,O,O,O,O,O\n",
      "nan\n",
      "nan\n",
      "----------------------------------------\n",
      "韩版时尚美甲贴花3D立体指甲贴纸多彩绚丽指甲饰品精品店批发\n",
      "O,O,O,O,O,O,O,O,O,O,O,O,O,O,O,O,O,O,O,O,O,O,O,O,O,O,O,O,O\n",
      "nan\n",
      "nan\n",
      "----------------------------------------\n",
      "KEVIN老师推荐八件套化妆刷套装化妆工具赠化妆包超值实用\n",
      "O,O,O,O,O,O,O,O,O,O,O,O,O,O,O,O,O,O,O,O,O,O,O,O,O,O,O,O,O\n",
      "nan\n",
      "nan\n",
      "----------------------------------------\n",
      "预定5天发货超润贴肤马油保湿CC霜美白又护肤超轻薄夏季必\n",
      "O,O,O,O,O,O,O,O,O,O,O,O,O,O,O,O,O,O,O,O,O,O,O,O,O,O,O,O\n",
      "nan\n",
      "nan\n",
      "----------------------------------------\n",
      "SIRRAH浠芮芭比闺蜜卸妆棉湿巾质地温和不刺激\n",
      "O,O,O,O,O,O,O,O,O,O,O,O,O,O,O,O,O,O,O,O,O,O,O,O\n",
      "nan\n",
      "nan\n",
      "----------------------------------------\n",
      "圣瑞雅新品瑞思哲卸妆湿巾10片\n",
      "O,O,O,O,O,O,O,O,O,O,O,O,O,O,O\n",
      "nan\n",
      "nan\n",
      "----------------------------------------\n",
      "实惠真心好用外贸韩国口红小样多色特级滋润唇膏口红69包邮\n",
      "O,O,O,O,O,O,O,O,O,O,O,O,O,O,O,O,O,O,O,O,O,O,O,O,O,O,O,O\n",
      "nan\n",
      "nan\n",
      "----------------------------------------\n",
      "HM正品柔软化妆刷套刷眼影刷眼线刷散粉刷蘑菇腮红粉底刷面膜刷\n",
      "O,O,O,O,O,O,O,O,O,O,O,O,O,O,O,O,O,O,O,O,O,O,O,O,O,O,O,O,O,O\n",
      "nan\n",
      "nan\n",
      "----------------------------------------\n",
      "HM专柜正品柔软化妆刷套刷眼影刷眼线刷散粉刷蘑菇腮红粉底刷\n",
      "O,O,O,O,O,O,O,O,O,O,O,O,O,O,O,O,O,O,O,O,O,O,O,O,O,O,O,O,O\n",
      "nan\n",
      "nan\n",
      "----------------------------------------\n",
      "好美好精致的刷粉底刷粉膏刷矿物质的粉饼刷\n",
      "O,O,O,O,O,O,O,O,O,O,O,O,O,O,O,O,O,O,O,O\n",
      "nan\n",
      "nan\n",
      "----------------------------------------\n",
      "眼线笔防水不晕染热卖韩国流行带海绵擦自动眼影笔多色新款正品\n",
      "O,O,O,O,O,O,O,O,O,O,O,O,O,O,O,O,O,O,O,O,O,O,O,O,O,O,O,O,O\n",
      "nan\n",
      "nan\n",
      "----------------------------------------\n",
      "蔻丹甲油胶正品BNB指甲胶芭比胶结合剂封层底胶粘合剂正品包邮\n",
      "O,O,O,O,O,O,O,O,O,O,O,O,O,O,O,O,O,O,O,O,O,O,O,O,O,O,O,O,O,O\n",
      "nan\n",
      "nan\n",
      "----------------------------------------\n",
      "美甲店院装光疗卸甲液快干水洗甲水清洁剂稀释剂洗笔水大瓶\n",
      "O,O,O,O,O,O,O,O,O,O,O,O,O,O,O,O,O,O,O,O,O,O,O,O,O,O,O\n",
      "nan\n",
      "nan\n",
      "----------------------------------------\n",
      "MX指甲油NAILPOLISH糖果美甲安全无毒闪光裸色快干正品包邮\n",
      "O,O,O,O,O,O,O,O,O,O,O,O,O,O,O,O,O,O,O,O,O,O,O,O,O,O,O,O,O,O,O,O,O\n",
      "nan\n",
      "nan\n",
      "----------------------------------------\n",
      "原木色扁头粉底刷粉底液刷BB霜刷专业修容化妆刷子专业遮瑕刷\n",
      "O,O,O,O,O,O,O,O,O,O,O,O,O,O,O,O,O,O,O,O,O,O,O,O,O,O,O,O,O\n",
      "nan\n",
      "nan\n",
      "----------------------------------------\n",
      "50格黑色白色展板甲油胶款式板美甲作品展示板\n",
      "O,O,O,O,O,O,O,O,O,O,O,O,O,O,O,O,O,O,O,O,O,O\n",
      "nan\n",
      "nan\n",
      "----------------------------------------\n",
      "A307G出口韩国12色口红唇膏保湿滋润\n",
      "O,O,O,O,O,O,O,O,O,O,O,O,O,O,O,O,O,O,O,O\n",
      "nan\n",
      "nan\n",
      "----------------------------------------\n",
      "韵姑娘正品韩国ZERO致柔卸妆膏温和深层清洁眼唇UOUO\n",
      "O,O,O,O,O,O,O,O,O,O,O,O,O,O,O,O,O,O,O,O,O,O,O,O,O,O,O,O\n",
      "nan\n",
      "nan\n",
      "----------------------------------------\n",
      "美甲饰品收纳盒钻石闪粉亮片甲片收纳盒光疗饰品美甲用品批发\n",
      "O,O,O,O,O,O,O,O,O,O,O,O,O,O,O,O,O,O,O,O,O,O,O,O,O,O,O,O\n",
      "nan\n",
      "nan\n",
      "----------------------------------------\n",
      "A308G出口英国夹心甜蜜水果味天然成分女士无色保湿滋润润唇膏\n",
      "O,O,O,O,O,O,O,O,O,O,O,O,O,O,O,O,O,O,O,O,O,O,O,O,O,O,O,O,O,O,O\n",
      "nan\n",
      "nan\n",
      "----------------------------------------\n",
      "现货正品凯筣丝汀深层保湿卸妆湿巾组合110片70片加赠20片2包\n",
      "O,O,O,O,O,O,O,O,O,O,O,O,O,O,O,O,O,O,O,O,O,O,O,O,O,O,O,O,O,O,O,O\n",
      "nan\n",
      "nan\n",
      "----------------------------------------\n",
      "SOPHIES正品水性健康指彩无毒快干可撕日抛指甲油13亮橘两瓶包邮\n",
      "O,O,O,O,O,O,O,O,O,O,O,O,O,O,O,O,O,O,O,O,O,O,O,O,O,O,O,O,O,O,O,O,O,O\n",
      "nan\n",
      "nan\n",
      "----------------------------------------\n",
      "SOPHIES正品健康指彩无毒快干可撕日抛指甲油40珠光粉两瓶包邮\n",
      "O,O,O,O,O,O,O,O,O,O,O,O,O,O,O,O,O,O,O,O,O,O,O,O,O,O,O,O,O,O,O,O,O\n",
      "nan\n",
      "nan\n",
      "----------------------------------------\n",
      "天天特价正品健康指彩无毒快干可撕日抛指甲油31藕粉\n",
      "O,O,O,O,O,O,O,O,O,O,O,O,O,O,O,O,O,O,O,O,O,O,O,O,O\n",
      "nan\n",
      "nan\n",
      "----------------------------------------\n",
      "SOPHIES正品健康指彩无毒快干可撕指甲油恒彩闪耀系列两瓶包邮\n",
      "O,O,O,O,O,O,O,O,O,O,O,O,O,O,O,O,O,O,O,O,O,O,O,O,O,O,O,O,O,O,O,O\n",
      "nan\n",
      "nan\n",
      "----------------------------------------\n",
      "RICHGIRL羊毛大号眼影刷化妆刷\n",
      "O,O,O,O,O,O,O,O,O,O,O,O,O,O,O,O,O,O\n",
      "nan\n",
      "nan\n",
      "----------------------------------------\n",
      "美甲工具套装全套甲油胶饰品贴纸光疗机灯LED光疗灯一步胶套装\n",
      "O,O,O,O,O,O,O,O,O,O,O,O,O,O,O,O,O,O,O,O,O,O,O,O,O,O,O,O,O,O\n",
      "nan\n",
      "nan\n",
      "----------------------------------------\n",
      "ID形象柔嫩红唇乳唇素纹唇润唇膏改善唇色唇彩乳晕盈透修复因子\n",
      "O,O,O,O,O,O,O,O,O,O,O,O,O,O,O,O,O,O,O,O,O,O,O,O,O,O,O,O,O,O\n",
      "nan\n",
      "nan\n",
      "----------------------------------------\n",
      "出口日本美甲清洁片包清洁剂快干水洗甲棉指甲清洗消毒甲油擦洗\n",
      "O,O,O,O,O,O,O,O,O,O,O,O,O,O,O,O,O,O,O,O,O,O,O,O,O,O,O,O,O\n",
      "nan\n",
      "nan\n",
      "----------------------------------------\n",
      "一次性洗脸巾纯棉加厚型美容巾超柔软无纺布洁面巾旅行化妆卸妆棉\n",
      "O,O,O,O,O,O,O,O,O,O,O,O,O,O,O,O,O,O,O,O,O,O,O,O,O,O,O,O,O,O\n",
      "nan\n",
      "nan\n",
      "----------------------------------------\n",
      "梦晓之家美国儿童宝宝变色指甲油水溶美甲产品无毒指甲油\n",
      "O,O,O,O,O,O,O,O,O,O,O,O,O,O,O,O,O,O,O,O,O,O,O,O,O,O\n",
      "nan\n",
      "nan\n",
      "----------------------------------------\n",
      "Q1421伊芝莲8008超级白金刀片2片装修眉刀化妆师专用刮眉刀片\n",
      "O,O,O,O,O,O,O,O,O,O,O,O,O,O,O,O,O,O,O,O,O,O,O,O,O,O,O,O,O,O,O,O,O\n",
      "nan\n",
      "nan\n",
      "----------------------------------------\n",
      "LIFTARGAN俪肤缇美颜舒柔洁颜乳\n",
      "O,O,O,O,O,O,O,O,O,O,O,O,O,O,O,O,O,O,O\n",
      "nan\n",
      "nan\n",
      "----------------------------------------\n",
      "精装ITHEAVENLYLUXEANGLEDRADIANCEN10斜角修容刷腮红刷\n",
      "O,O,O,O,O,O,O,O,O,O,O,O,O,O,O,O,O,O,O,O,O,O,O,O,O,O,O,O,O,O,O,O,O,O,O,O,O,O,O,O,O\n",
      "nan\n",
      "nan\n",
      "----------------------------------------\n",
      "ITVELVETLUXE系列PLUSHPOWDER313散粉刷腮红刷尾钻正品\n",
      "O,O,O,O,O,O,O,O,O,O,O,O,O,O,O,O,O,O,O,O,O,O,O,O,O,O,O,O,O,O,O,O,O,O,O,O,O,O\n",
      "nan\n",
      "nan\n",
      "----------------------------------------\n",
      "仿ITBRUSHESFLAWLESSBLUSHBRUSH227斜角修容刷\n",
      "O,O,O,O,O,O,O,O,O,O,O,O,O,O,O,O,O,O,O,O,O,O,O,O,O,O,O,O,O,O,O,O,O,O,O,O\n",
      "nan\n",
      "nan\n",
      "----------------------------------------\n",
      "包邮HELLO猫咪化妆刷套装腮红刷铁盒套刷子7件刷套刷彩妆工具刷\n",
      "O,O,O,O,O,O,O,O,O,O,O,O,O,O,O,O,O,O,O,O,O,O,O,O,O,O,O,O,O,O,O,O\n",
      "nan\n",
      "nan\n",
      "----------------------------------------\n",
      "LEDIINAIL草莓夹心派款手工甲片\n",
      "O,O,O,O,O,O,O,O,O,O,O,O,O,O,O,O,O,O,O\n",
      "nan\n",
      "nan\n",
      "----------------------------------------\n",
      "LEDIINAIL粉色波斯款\n",
      "O,O,O,O,O,O,O,O,O,O,O,O,O,O\n",
      "nan\n",
      "nan\n",
      "----------------------------------------\n",
      "RSTTINGRSTTING超赞五彩星钻面精致烘培腮红眼影两用\n",
      "O,O,O,O,O,O,O,O,O,O,O,O,O,O,O,O,O,O,O,O,O,O,O,O,O,O,O,O,O,O,O\n",
      "nan\n",
      "nan\n",
      "----------------------------------------\n",
      "专业化妆刷47122432支彩妆化妆刷套装套初学者刷眼影散粉刷\n",
      "O,O,O,O,O,O,O,O,O,O,O,O,O,O,O,O,O,O,O,O,O,O,O,O,O,O,O,O,O,O,O\n",
      "nan\n",
      "nan\n",
      "----------------------------------------\n",
      "化妆刷套装初学化妆7支化妆刷散粉刷粉底刷眼线膏刷专业化妆刷\n",
      "O,O,O,O,O,O,O,O,O,O,O,O,O,O,O,O,O,O,O,O,O,O,O,O,O,O,O,O,O\n",
      "nan\n",
      "nan\n",
      "----------------------------------------\n",
      "初学化妆刷套装化妆刷套刷子化妆美妆彩妆工具化妆笔专业化妆刷\n",
      "O,O,O,O,O,O,O,O,O,O,O,O,O,O,O,O,O,O,O,O,O,O,O,O,O,O,O,O,O\n",
      "nan\n",
      "nan\n",
      "----------------------------------------\n",
      "专业化化妆刷套刷套装专业24支化妆刷套刷彩妆工具腮红眼影刷\n",
      "O,O,O,O,O,O,O,O,O,O,O,O,O,O,O,O,O,O,O,O,O,O,O,O,O,O,O,O,O\n",
      "nan\n",
      "nan\n",
      "----------------------------------------\n",
      "美甲饰品收纳盒钻石闪粉亮片甲片收纳盒光疗饰品美甲用品批发\n",
      "O,O,O,O,O,O,O,O,O,O,O,O,O,O,O,O,O,O,O,O,O,O,O,O,O,O,O,O\n",
      "nan\n",
      "nan\n",
      "----------------------------------------\n",
      "美国大牌IT212化妆刷遮瑕刷金属管大号眼影刷\n",
      "O,O,O,O,O,O,O,O,O,O,O,O,O,O,O,O,O,O,O,O,O,O,O\n",
      "nan\n",
      "nan\n",
      "----------------------------------------\n",
      "唇油保湿滋润唇膏淡化唇纹唇蜜补水唇彩裸无色SOD密水润莹亮护唇\n",
      "O,O,O,O,O,O,O,O,O,O,O,O,O,O,O,O,O,O,O,O,O,O,O,O,O,O,O,O,O,O,O\n",
      "nan\n",
      "nan\n",
      "----------------------------------------\n",
      "现货羽禾日本代购滨田推荐BLANCHEETOILE星星指甲油组合装\n",
      "O,O,O,O,O,O,O,O,O,O,O,O,O,O,O,O,O,O,O,O,O,O,O,O,O,O,O,O,O,O,O,O,O\n",
      "nan\n",
      "nan\n",
      "----------------------------------------\n",
      "美甲店光疗机水晶甲纸托指甲油胶500片卷批发芭比胶包邮新款热卖\n",
      "O,O,O,O,O,O,O,O,O,O,O,O,O,O,O,O,O,O,O,O,O,O,O,O,O,O,O,O,O,O,O\n",
      "nan\n",
      "nan\n",
      "----------------------------------------\n",
      "梦晓之家美国儿童宝宝变色指甲油水溶美甲产品无毒指甲油\n",
      "O,O,O,O,O,O,O,O,O,O,O,O,O,O,O,O,O,O,O,O,O,O,O,O,O,O\n",
      "nan\n",
      "nan\n",
      "----------------------------------------\n",
      "专业10支小蛮腰脸部眼部化妆刷套装晕染鼻影高光湿粉套刷底妆扫\n",
      "O,O,O,O,O,O,O,O,O,O,O,O,O,O,O,O,O,O,O,O,O,O,O,O,O,O,O,O,O,O\n",
      "nan\n",
      "nan\n",
      "----------------------------------------\n",
      "专业5支眼部化妆刷套刷眼影刷套装化妆彩妆工具眉刷唇刷便携包邮\n",
      "O,O,O,O,O,O,O,O,O,O,O,O,O,O,O,O,O,O,O,O,O,O,O,O,O,O,O,O,O,O\n",
      "nan\n",
      "nan\n",
      "----------------------------------------\n",
      "包邮4支竹柄竹子柄化妆套刷蜜粉刷眼影刷遮瑕刷腮红刷化妆刷工具\n",
      "O,O,O,O,O,O,O,O,O,O,O,O,O,O,O,O,O,O,O,O,O,O,O,O,O,O,O,O,O,O\n",
      "nan\n",
      "nan\n",
      "----------------------------------------\n",
      "4支化妆刷套装天然环保竹子柄腮红刷蜜粉刷眼影刷遮瑕刷包邮\n",
      "O,O,O,O,O,O,O,O,O,O,O,O,O,O,O,O,O,O,O,O,O,O,O,O,O,O,O,O\n",
      "nan\n",
      "nan\n",
      "----------------------------------------\n",
      "11支化妆刷套装彩妆全套工具粉底刷腮红刷散粉刷眼影刷竹子柄包邮\n",
      "O,O,O,O,O,O,O,O,O,O,O,O,O,O,O,O,O,O,O,O,O,O,O,O,O,O,O,O,O,O,O\n",
      "nan\n",
      "nan\n",
      "----------------------------------------\n",
      "硅胶面膜刷美体软毛细腻服帖DIY面膜工具\n",
      "O,O,O,O,O,O,O,O,O,O,O,O,O,O,O,O,O,O,O,O\n",
      "nan\n",
      "nan\n",
      "----------------------------------------\n",
      "正品SALULU温和卸妆喷雾清爽型滋润型懒人卸妆水必备包邮\n",
      "O,O,O,O,O,O,O,O,O,O,O,O,O,O,O,O,O,O,O,O,O,O,O,O,O,O,O,O,O\n",
      "nan\n",
      "nan\n",
      "----------------------------------------\n",
      "卸妆泡沫芦荟刷头纯天然不刺激人鱼公主温和保湿卸妆水正品包邮\n",
      "O,O,O,O,O,O,O,O,O,O,O,O,O,O,O,O,O,O,O,O,O,O,O,O,O,O,O,O,O\n",
      "nan\n",
      "nan\n",
      "----------------------------------------\n",
      "眼线笔防水不晕染热卖韩国流行带海绵擦自动眼影笔多色新款正品\n",
      "O,O,O,O,O,O,O,O,O,O,O,O,O,O,O,O,O,O,O,O,O,O,O,O,O,O,O,O,O\n",
      "nan\n",
      "nan\n",
      "----------------------------------------\n",
      "金色死皮剪双叉高品质超耐用款美甲工具去除指甲周边的死皮特价\n",
      "O,O,O,O,O,O,O,O,O,O,O,O,O,O,O,O,O,O,O,O,O,O,O,O,O,O,O,O,O\n",
      "nan\n",
      "nan\n",
      "----------------------------------------\n",
      "正品防水不晕染热卖韩国流行带海绵擦自动眼影笔眼线笔多色\n",
      "O,O,O,O,O,O,O,O,O,O,O,O,O,O,O,O,O,O,O,O,O,O,O,O,O,O,O\n",
      "nan\n",
      "nan\n",
      "----------------------------------------\n",
      "指甲油胶QQ甲油胶裸色正品美甲持久可卸环保光疗蔻丹芭比胶\n",
      "O,O,O,O,O,O,O,O,O,O,O,O,O,O,O,O,O,O,O,O,O,O,O,O,O,O,O,O\n",
      "nan\n",
      "nan\n",
      "----------------------------------------\n",
      "美甲猫眼甲油胶魔力笔美甲磁力笔美甲磁性笔猫眼胶磁笔猫眼胶\n",
      "O,O,O,O,O,O,O,O,O,O,O,O,O,O,O,O,O,O,O,O,O,O,O,O,O,O,O,O\n",
      "nan\n",
      "nan\n",
      "----------------------------------------\n",
      "美甲工具套装批发用品指甲油胶可卸QQ甲油胶包邮\n",
      "O,O,O,O,O,O,O,O,O,O,O,O,O,O,O,O,O,O,O,O,O,O,O\n",
      "nan\n",
      "nan\n",
      "----------------------------------------\n",
      "希柯手工口红唇釉天然花果提取滋润食用级健康孕妇可用无铅汞\n",
      "O,O,O,O,O,O,O,O,O,O,O,O,O,O,O,O,O,O,O,O,O,O,O,O,O,O,O,O\n",
      "nan\n",
      "nan\n",
      "----------------------------------------\n",
      "双11超低价外贸库存尾单美甲指甲油指甲油批发买一送一\n",
      "O,O,O,O,O,O,O,O,O,O,O,O,O,O,O,O,O,O,O,O,O,O,O,O,O,O\n",
      "nan\n",
      "nan\n",
      "----------------------------------------\n",
      "唯儿尚品美啦美盒装卸妆湿巾快速温棉片薄荷清爽洁肤50片\n",
      "O,O,O,O,O,O,O,O,O,O,O,O,O,O,O,O,O,O,O,O,O,O,O,O,O,O,O\n",
      "nan\n",
      "nan\n",
      "----------------------------------------\n",
      "ZHE品内芯忽略品PAI的外壳膏体巨上色保湿唇膏口红满79包\n",
      "O,O,O,O,O,O,O,O,O,O,O,O,O,O,O,O,O,O,O,O,O,O,O,O,O,O,O,O,O,O\n",
      "nan\n",
      "nan\n",
      "----------------------------------------\n",
      "BMMAKEUP1STROW持久炫黑眼线笔\n",
      "O,O,O,O,O,O,O,O,O,O,O,O,O,O,O,O,O,O,O,O,O\n",
      "nan\n",
      "nan\n",
      "----------------------------------------\n",
      "BMMAKEUP1STROW神奇眼线液笔\n",
      "O,O,O,O,O,O,O,O,O,O,O,O,O,O,O,O,O,O,O,O\n",
      "nan\n",
      "nan\n",
      "----------------------------------------\n",
      "多功能于一身变魔术一样的伸缩面部粉刷你一定没有见过\n",
      "O,O,O,O,O,O,O,O,O,O,O,O,O,O,O,O,O,O,O,O,O,O,O,O,O\n",
      "nan\n",
      "nan\n",
      "----------------------------------------\n",
      "三瓶包邮七彩幻影变色龙甲油胶炫金变色甲油胶批发正品变色美甲店\n",
      "O,O,O,O,O,O,O,O,O,O,O,O,O,O,O,O,O,O,O,O,O,O,O,O,O,O,O,O,O,O\n",
      "nan\n",
      "nan\n",
      "----------------------------------------\n",
      "春天瑞朵雪莲修护深层清洁润肤面部卸妆湿巾30片简便清洁\n",
      "O,O,O,O,O,O,O,O,O,O,O,O,O,O,O,O,O,O,O,O,O,O,O,O,O,O,O\n",
      "nan\n",
      "nan\n",
      "----------------------------------------\n",
      "敏感品牌FLATTOPFOUNDATION平头矿物粉粉底化妆刷\n",
      "O,O,O,O,O,O,O,O,O,O,O,O,O,O,O,O,O,O,O,O,O,O,O,O,O,O,O,O,O,O,O\n",
      "nan\n",
      "nan\n",
      "----------------------------------------\n",
      "眼部唇部脸部温和无残留淡妆彩妆深层清洁不油腻卸妆水\n",
      "O,O,O,O,O,O,O,O,O,O,O,O,O,O,O,O,O,O,O,O,O,O,O,O,O\n",
      "nan\n",
      "nan\n",
      "----------------------------------------\n",
      "正品彩胶15ML寇丹甲油胶环保树脂无味超亮指甲油美甲工具四瓶包邮\n",
      "O,O,O,O,O,O,O,O,O,O,O,O,O,O,O,O,O,O,O,O,O,O,O,O,O,O,O,O,O,O,O,O\n",
      "nan\n",
      "nan\n",
      "----------------------------------------\n"
     ]
    },
    {
     "data": {
      "text/plain": [
       "0"
      ]
     },
     "execution_count": 49,
     "metadata": {},
     "output_type": "execute_result"
    }
   ],
   "source": [
    "print('开始检查都是O的数据')\n",
    "for i in range(100,200):\n",
    "    print(check['desc'][i])\n",
    "    print(check['final_ner'][i])\n",
    "    print(check['brand_cn'][i])\n",
    "    print(check['brand_en'][i])\n",
    "    print('-'*40)\n",
    "gc.collect()"
   ]
  },
  {
   "cell_type": "code",
   "execution_count": null,
   "metadata": {},
   "outputs": [],
   "source": []
  },
  {
   "cell_type": "code",
   "execution_count": null,
   "metadata": {},
   "outputs": [],
   "source": []
  },
  {
   "cell_type": "code",
   "execution_count": null,
   "metadata": {},
   "outputs": [],
   "source": []
  }
 ],
 "metadata": {
  "kernelspec": {
   "display_name": "py_tf_1",
   "language": "python",
   "name": "py_tf_1"
  },
  "language_info": {
   "codemirror_mode": {
    "name": "ipython",
    "version": 3
   },
   "file_extension": ".py",
   "mimetype": "text/x-python",
   "name": "python",
   "nbconvert_exporter": "python",
   "pygments_lexer": "ipython3",
   "version": "3.6.9"
  }
 },
 "nbformat": 4,
 "nbformat_minor": 4
}
