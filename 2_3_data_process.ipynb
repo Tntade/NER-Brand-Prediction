{
 "cells": [
  {
   "cell_type": "markdown",
   "metadata": {},
   "source": [
    "### <font color=red>如果下班了以后还想让服务器自己继续跑程序的话，可以在xshell中输入nohup python 2_2_data_process.py &就可以让服务器自动hang up自己跑"
   ]
  },
  {
   "cell_type": "markdown",
   "metadata": {},
   "source": [
    "<font color=blue>nohup python 2_2_data_process.py &"
   ]
  },
  {
   "cell_type": "code",
   "execution_count": 67,
   "metadata": {},
   "outputs": [],
   "source": [
    "import numpy as np\n",
    "import pandas as pd\n",
    "import warnings,os,time,gc,jieba\n",
    "warnings.filterwarnings('ignore')"
   ]
  },
  {
   "cell_type": "code",
   "execution_count": 68,
   "metadata": {},
   "outputs": [],
   "source": [
    "def random_shuffle(df):\n",
    "    df=df.reset_index(drop=True)\n",
    "    leng=len(df)\n",
    "    indices=np.random.permutation(leng)\n",
    "    df=df.iloc[indices,:]\n",
    "    print(df.head())\n",
    "    return df"
   ]
  },
  {
   "cell_type": "code",
   "execution_count": 69,
   "metadata": {},
   "outputs": [],
   "source": [
    "#方法一：\n",
    "#（1）对于非品牌字，随机选择与本品牌不重字的词组，组合成一个新的desc\n",
    "#优点：增加了非固定词语组合的特征\n",
    "#需要注意的是:categ的统一，即要选择categ一致的品牌替换才可以\n",
    "\n",
    "#方法二：\n",
    "#（1）找到那些不带categ的数据，然后将数据分成3类型，左中右\n",
    "#（2）然后分别随机选择以后，将对应的品牌进行代替\n",
    "#（3）然后对于这些新增的数据，全都放到train_0中，先出model,然后预测这些新增的样本的测试\n",
    "#优点：更加符合实际业务中的platform_goods_name"
   ]
  },
  {
   "cell_type": "code",
   "execution_count": 70,
   "metadata": {},
   "outputs": [
    {
     "name": "stdout",
     "output_type": "stream",
     "text": [
      "(4220070, 23)\n"
     ]
    },
    {
     "data": {
      "text/html": [
       "<div>\n",
       "<style scoped>\n",
       "    .dataframe tbody tr th:only-of-type {\n",
       "        vertical-align: middle;\n",
       "    }\n",
       "\n",
       "    .dataframe tbody tr th {\n",
       "        vertical-align: top;\n",
       "    }\n",
       "\n",
       "    .dataframe thead th {\n",
       "        text-align: right;\n",
       "    }\n",
       "</style>\n",
       "<table border=\"1\" class=\"dataframe\">\n",
       "  <thead>\n",
       "    <tr style=\"text-align: right;\">\n",
       "      <th></th>\n",
       "      <th>id</th>\n",
       "      <th>desc</th>\n",
       "      <th>final_ner</th>\n",
       "    </tr>\n",
       "  </thead>\n",
       "  <tbody>\n",
       "    <tr>\n",
       "      <th>3872880</th>\n",
       "      <td>B07MK5X5BY</td>\n",
       "      <td>细纹JAMBERRY贴紫色和灰色金色闪耀线2016母亲节FULLSHEET2MANICURE...</td>\n",
       "      <td>O,O,BRD-B,BRD-I,BRD-I,BRD-I,BRD-I,BRD-I,BRD-I,...</td>\n",
       "    </tr>\n",
       "    <tr>\n",
       "      <th>1507331</th>\n",
       "      <td>1981693979</td>\n",
       "      <td>CANMAKE日本CANMAKE井田花瓣雕刻五色腮红35G5色带腮红刷珠光03活力橙</td>\n",
       "      <td>BRD-B,BRD-I,BRD-I,BRD-I,BRD-I,BRD-I,BRD-I,O,O,...</td>\n",
       "    </tr>\n",
       "    <tr>\n",
       "      <th>3803813</th>\n",
       "      <td>B075832RH7</td>\n",
       "      <td>XIAOYU12支眉笔模板眉毛模板塑形眉设计腰带透明多元化风格</td>\n",
       "      <td>BRD-B,BRD-I,BRD-I,BRD-I,BRD-I,BRD-I,O,O,O,O,O,...</td>\n",
       "    </tr>\n",
       "  </tbody>\n",
       "</table>\n",
       "</div>"
      ],
      "text/plain": [
       "                 id                                               desc  \\\n",
       "3872880  B07MK5X5BY  细纹JAMBERRY贴紫色和灰色金色闪耀线2016母亲节FULLSHEET2MANICURE...   \n",
       "1507331  1981693979         CANMAKE日本CANMAKE井田花瓣雕刻五色腮红35G5色带腮红刷珠光03活力橙   \n",
       "3803813  B075832RH7                    XIAOYU12支眉笔模板眉毛模板塑形眉设计腰带透明多元化风格   \n",
       "\n",
       "                                                 final_ner  \n",
       "3872880  O,O,BRD-B,BRD-I,BRD-I,BRD-I,BRD-I,BRD-I,BRD-I,...  \n",
       "1507331  BRD-B,BRD-I,BRD-I,BRD-I,BRD-I,BRD-I,BRD-I,O,O,...  \n",
       "3803813  BRD-B,BRD-I,BRD-I,BRD-I,BRD-I,BRD-I,O,O,O,O,O,...  "
      ]
     },
     "execution_count": 70,
     "metadata": {},
     "output_type": "execute_result"
    }
   ],
   "source": [
    "train=pd.read_csv('train_ner.csv')\n",
    "print(train.shape)\n",
    "train[['id','desc','final_ner']].sample(3)"
   ]
  },
  {
   "cell_type": "markdown",
   "metadata": {},
   "source": [
    "### <font color=red>方法一"
   ]
  },
  {
   "cell_type": "markdown",
   "metadata": {},
   "source": [
    "<font color=red>（1)提取出brands和nokey words"
   ]
  },
  {
   "cell_type": "code",
   "execution_count": null,
   "metadata": {},
   "outputs": [],
   "source": [
    "#查看位置分布\n",
    "def get_position(v1,v2):\n",
    "    v2=v2.split(',')\n",
    "    if len(v1)==len(v2):\n",
    "        if len(v1)<2:\n",
    "            if v2[0]=='BRD-B':\n",
    "                return 'head'\n",
    "            else:\n",
    "                return 'zero'\n",
    "        else:\n",
    "            if v2[0]=='BRD-B':\n",
    "                return 'head'\n",
    "            elif v2[-1]=='BRD-I':\n",
    "                return 'tail'\n",
    "            else:\n",
    "                flag=''\n",
    "                for i in range(1,len(v2)-1):\n",
    "                    if v2[i]=='BRD-B':\n",
    "                        flag='middle'\n",
    "                if flag=='middle':\n",
    "                    return 'middle'\n",
    "                else:\n",
    "                    return 'zero'"
   ]
  },
  {
   "cell_type": "code",
   "execution_count": null,
   "metadata": {},
   "outputs": [],
   "source": [
    "train['pos']=train[['desc','final_ner']].apply(lambda row:get_position(row[0],row[1]),raw=True,axis=1)\n",
    "print(train.shape)\n",
    "print(pd.isnull(train[['id','pos']]).sum())"
   ]
  },
  {
   "cell_type": "code",
   "execution_count": null,
   "metadata": {},
   "outputs": [],
   "source": [
    "tmp=train.groupby('pos')['id'].count().reset_index(name='cnt')\n",
    "tmp['ratio']=tmp['cnt']/np.sum(tmp['cnt'])\n",
    "tmp.sort_values(by=['ratio'],ascending=False,inplace=True)\n",
    "print(tmp.head())"
   ]
  },
  {
   "cell_type": "code",
   "execution_count": null,
   "metadata": {},
   "outputs": [],
   "source": [
    "# check=train[train['pos']=='middle'][['desc','final_ner']]\n",
    "# check=check.sample(50).reset_index(drop=True)\n",
    "# for i in range(50):\n",
    "#     print(check['final_ner'][i])\n",
    "#     print('-'*40)"
   ]
  },
  {
   "cell_type": "code",
   "execution_count": 71,
   "metadata": {},
   "outputs": [],
   "source": [
    "def del_brand_jieba(v1,v2):\n",
    "    lst_key=[]\n",
    "    lst_nokey=[]\n",
    "    \n",
    "    lst=[]\n",
    "    s=str(v1)\n",
    "    ner=v2.split(',')\n",
    "    if len(s)==len(ner):\n",
    "        lst=[]\n",
    "        for i in range(len(s)):\n",
    "            word1=s[i]\n",
    "            ner1=ner[i]\n",
    "            if ner1=='O':\n",
    "                lst_nokey.append(word1)\n",
    "            elif ner1=='BRD-B':\n",
    "                lst.append(word1)\n",
    "            else:\n",
    "                lst.append(word1)\n",
    "        return \n",
    "    else:\n",
    "        return 'wrong'"
   ]
  },
  {
   "cell_type": "code",
   "execution_count": 72,
   "metadata": {},
   "outputs": [],
   "source": [
    "# #计算一个lst中出现的某一个value的次数\n",
    "# from collections import Counter\n",
    "# result = Counter(v2)\n",
    "# print(result['BRD-B'])"
   ]
  },
  {
   "cell_type": "code",
   "execution_count": 73,
   "metadata": {},
   "outputs": [],
   "source": [
    "v1='香港直邮雅诗兰黛YS花漾倾慕口红35ML'\n",
    "v2='O,O,O,O,BRD-B,BRD-I,BRD-I,BRD-I,BRD-B,BRD-I,O,O,O,O,O,O,O,O,O,O'\n",
    "\n",
    "def split_key_nokey(v1,v2):\n",
    "    v2=v2.split(',')\n",
    "    \n",
    "    lst_nokey=[]\n",
    "    lst_key=[]\n",
    "\n",
    "    if len(v1)==len(v2):\n",
    "        for i in range(len(v1)):\n",
    "            w1=v1[i]\n",
    "            n1=v2[i]\n",
    "            if n1=='O':\n",
    "                lst_nokey.append(w1)\n",
    "            elif n1=='BRD-B':\n",
    "                lst_key.append('#')\n",
    "                lst_key.append(w1)\n",
    "            else:\n",
    "                lst_key.append(w1)\n",
    "            \n",
    "    a=''.join(lst_nokey)\n",
    "    b=''.join(lst_key)\n",
    "    lst=list(set(b.split('#')))\n",
    "    if '' in lst:\n",
    "        lst.remove('')\n",
    "    return ','.join(lst),a\n",
    "\n",
    "# keys,nokeys=split_key_nokey(v1,v2)\n",
    "# print(keys)\n",
    "# print(nokeys)"
   ]
  },
  {
   "cell_type": "code",
   "execution_count": 74,
   "metadata": {},
   "outputs": [],
   "source": [
    "train['desc_key']=train[['desc','final_ner']].apply(lambda row:split_key_nokey(row[0],row[1])[0],raw=True,axis=1)"
   ]
  },
  {
   "cell_type": "code",
   "execution_count": 75,
   "metadata": {},
   "outputs": [
    {
     "name": "stdout",
     "output_type": "stream",
     "text": [
      "id          0\n",
      "desc_key    0\n",
      "dtype: int64\n"
     ]
    }
   ],
   "source": [
    "print(pd.isnull(train[['id','desc_key']]).sum())"
   ]
  },
  {
   "cell_type": "code",
   "execution_count": 76,
   "metadata": {},
   "outputs": [
    {
     "name": "stdout",
     "output_type": "stream",
     "text": [
      "1189550\n"
     ]
    }
   ],
   "source": [
    "print(len(train[train['desc_key']=='']))"
   ]
  },
  {
   "cell_type": "code",
   "execution_count": 77,
   "metadata": {},
   "outputs": [],
   "source": [
    "train.loc[train['desc_key']!='','key_leng']=train[train['desc_key']!='']['desc_key'].apply(lambda x:len(x.split(',')))\n",
    "train.loc[train['desc_key']=='','key_leng']=0"
   ]
  },
  {
   "cell_type": "code",
   "execution_count": 78,
   "metadata": {},
   "outputs": [
    {
     "name": "stdout",
     "output_type": "stream",
     "text": [
      "1.0    1933553\n",
      "0.0    1189550\n",
      "2.0    1075388\n",
      "3.0      20722\n",
      "4.0        855\n",
      "5.0          2\n",
      "Name: key_leng, dtype: int64\n"
     ]
    }
   ],
   "source": [
    "print(train['key_leng'].value_counts())"
   ]
  },
  {
   "cell_type": "code",
   "execution_count": 79,
   "metadata": {},
   "outputs": [],
   "source": [
    "# check=train[train['key_leng']==5].reset_index(drop=True)\n",
    "# print(check.head())"
   ]
  },
  {
   "cell_type": "code",
   "execution_count": 92,
   "metadata": {},
   "outputs": [
    {
     "name": "stdout",
     "output_type": "stream",
     "text": [
      "28640\n",
      "run time is: 2.875749437014262\n"
     ]
    },
    {
     "data": {
      "text/plain": [
       "113"
      ]
     },
     "execution_count": 92,
     "metadata": {},
     "output_type": "execute_result"
    }
   ],
   "source": [
    "#品牌词频统计\n",
    "s1=time.time()\n",
    "brand_time_dict={}\n",
    "train_del_null=train[train['desc_key']!=''][['id','desc_key']].drop_duplicates().reset_index(drop=True)\n",
    "for i in range(len(train_del_null)):\n",
    "    keys=train_del_null['desc_key'][i]\n",
    "    keys=keys.split(',')\n",
    "    for k in keys:\n",
    "        if k not in brand_time_dict:\n",
    "            brand_time_dict[k]=0\n",
    "        brand_time_dict[k]+=1\n",
    "print(len(brand_time_dict))\n",
    "print('run time is:',(time.time()-s1)/60)\n",
    "gc.collect()"
   ]
  },
  {
   "cell_type": "code",
   "execution_count": 97,
   "metadata": {},
   "outputs": [
    {
     "name": "stdout",
     "output_type": "stream",
     "text": [
      "(28640, 2)\n",
      "(28640, 2)\n"
     ]
    },
    {
     "data": {
      "text/html": [
       "<div>\n",
       "<style scoped>\n",
       "    .dataframe tbody tr th:only-of-type {\n",
       "        vertical-align: middle;\n",
       "    }\n",
       "\n",
       "    .dataframe tbody tr th {\n",
       "        vertical-align: top;\n",
       "    }\n",
       "\n",
       "    .dataframe thead th {\n",
       "        text-align: right;\n",
       "    }\n",
       "</style>\n",
       "<table border=\"1\" class=\"dataframe\">\n",
       "  <thead>\n",
       "    <tr style=\"text-align: right;\">\n",
       "      <th></th>\n",
       "      <th>brand</th>\n",
       "      <th>frequency</th>\n",
       "    </tr>\n",
       "  </thead>\n",
       "  <tbody>\n",
       "    <tr>\n",
       "      <th>0</th>\n",
       "      <td>934</td>\n",
       "      <td>5</td>\n",
       "    </tr>\n",
       "    <tr>\n",
       "      <th>1</th>\n",
       "      <td>PHILOSOPHY</td>\n",
       "      <td>138</td>\n",
       "    </tr>\n",
       "    <tr>\n",
       "      <th>2</th>\n",
       "      <td>1611</td>\n",
       "      <td>4</td>\n",
       "    </tr>\n",
       "    <tr>\n",
       "      <th>3</th>\n",
       "      <td>ROYAL</td>\n",
       "      <td>204</td>\n",
       "    </tr>\n",
       "    <tr>\n",
       "      <th>4</th>\n",
       "      <td>THREE</td>\n",
       "      <td>3122</td>\n",
       "    </tr>\n",
       "  </tbody>\n",
       "</table>\n",
       "</div>"
      ],
      "text/plain": [
       "        brand  frequency\n",
       "0         934          5\n",
       "1  PHILOSOPHY        138\n",
       "2        1611          4\n",
       "3       ROYAL        204\n",
       "4       THREE       3122"
      ]
     },
     "execution_count": 97,
     "metadata": {},
     "output_type": "execute_result"
    }
   ],
   "source": [
    "brand_time_df=pd.DataFrame.from_dict(brand_time_dict,orient='index')\n",
    "brand_time_df=brand_time_df.reset_index().rename(columns={'index':'brand',0:'frequency'})\n",
    "print(brand_time_df.shape)\n",
    "brand_time_df=brand_time_df.drop_duplicates().reset_index(drop=True)\n",
    "print(brand_time_df.shape)\n",
    "print(brand_time_df.head())\n",
    "\n",
    "# brand_time_df.to_csv('brand_frequency.csv',index=False,encoding='utf-8')\n",
    "# gc.collect()"
   ]
  },
  {
   "cell_type": "code",
   "execution_count": 99,
   "metadata": {},
   "outputs": [
    {
     "name": "stdout",
     "output_type": "stream",
     "text": [
      "0.00        1.0\n",
      "0.25        1.0\n",
      "0.50        3.0\n",
      "0.75       13.0\n",
      "1.00    96391.0\n",
      "Name: frequency, dtype: float64\n"
     ]
    }
   ],
   "source": [
    "print(brand_time_df['frequency'].quantile([0,0.25,0.5,0.75,1]))"
   ]
  },
  {
   "cell_type": "code",
   "execution_count": 101,
   "metadata": {},
   "outputs": [
    {
     "name": "stdout",
     "output_type": "stream",
     "text": [
      "(13317, 2)\n",
      "1\n"
     ]
    }
   ],
   "source": [
    "check=brand_time_df[brand_time_df['frequency']<3]\n",
    "print(check.shape)\n",
    "print(check['frequency'].min())"
   ]
  },
  {
   "cell_type": "markdown",
   "metadata": {},
   "source": [
    "### <font color=red>首先删除那些不是真实brand的brand,然后对于那些样本量<3的brand做数据增强,最好不要用到categ，否则一定要注意brand和categ的一致性"
   ]
  },
  {
   "cell_type": "code",
   "execution_count": null,
   "metadata": {},
   "outputs": [],
   "source": []
  },
  {
   "cell_type": "markdown",
   "metadata": {},
   "source": [
    "### <font color=red>先用那些样本量>=3的brand进行测试"
   ]
  },
  {
   "cell_type": "code",
   "execution_count": 110,
   "metadata": {},
   "outputs": [
    {
     "name": "stdout",
     "output_type": "stream",
     "text": [
      "15323\n",
      "2118\n",
      "['23YEARSOLD', '嘉康利', 'CONY', '1831', 'YUZUN', 'ZNG', 'SWEETCOLO', 'CELLINA', 'SMOOTHSKIN', 'HRR']\n"
     ]
    }
   ],
   "source": [
    "choosed_brand=brand_time_df[brand_time_df['frequency']>=3]['brand'].unique().tolist()\n",
    "print(len(choosed_brand))"
   ]
  },
  {
   "cell_type": "code",
   "execution_count": 112,
   "metadata": {},
   "outputs": [
    {
     "name": "stdout",
     "output_type": "stream",
     "text": [
      "2118\n",
      "['23YEARSOLD', '嘉康利', 'CONY', '1831', 'YUZUN', 'ZNG', 'SWEETCOLO', 'CELLINA', 'SMOOTHSKIN', 'HRR']\n"
     ]
    }
   ],
   "source": [
    "\"\"\"用以下品牌进行测试\"\"\"\n",
    "test_brand=brand_time_df[brand_time_df['frequency']==3]\n",
    "print(len(test_brand))\n",
    "print(test_brand['brand'][:10].tolist())"
   ]
  },
  {
   "cell_type": "code",
   "execution_count": 111,
   "metadata": {},
   "outputs": [
    {
     "name": "stdout",
     "output_type": "stream",
     "text": [
      "(4220070, 25)\n",
      "(3027224, 25)\n"
     ]
    }
   ],
   "source": [
    "train_df=train[train['desc_key'].str.contains('|'.join(choosed_brand))]\n",
    "print(train.shape)\n",
    "print(train_df.shape)"
   ]
  },
  {
   "cell_type": "code",
   "execution_count": 113,
   "metadata": {},
   "outputs": [],
   "source": [
    "train_df.to_csv('train_ner_3.csv',index=False,encoding='utf-8')"
   ]
  },
  {
   "cell_type": "code",
   "execution_count": null,
   "metadata": {},
   "outputs": [],
   "source": []
  },
  {
   "cell_type": "code",
   "execution_count": null,
   "metadata": {},
   "outputs": [],
   "source": []
  },
  {
   "cell_type": "code",
   "execution_count": null,
   "metadata": {},
   "outputs": [],
   "source": []
  },
  {
   "cell_type": "code",
   "execution_count": null,
   "metadata": {},
   "outputs": [],
   "source": []
  }
 ],
 "metadata": {
  "kernelspec": {
   "display_name": "py_tf_1",
   "language": "python",
   "name": "py_tf_1"
  },
  "language_info": {
   "codemirror_mode": {
    "name": "ipython",
    "version": 3
   },
   "file_extension": ".py",
   "mimetype": "text/x-python",
   "name": "python",
   "nbconvert_exporter": "python",
   "pygments_lexer": "ipython3",
   "version": "3.6.9"
  }
 },
 "nbformat": 4,
 "nbformat_minor": 4
}
